{
 "cells": [
  {
   "cell_type": "markdown",
   "id": "cd8a64bf-74c9-44e6-bf4d-3248b713b5e1",
   "metadata": {},
   "source": [
    "# 06 February 2023"
   ]
  },
  {
   "cell_type": "markdown",
   "id": "f5ddc2c2-343e-4fc5-9f36-48bab1068c14",
   "metadata": {
    "tags": []
   },
   "source": [
    "## Q1"
   ]
  },
  {
   "cell_type": "code",
   "execution_count": 24,
   "id": "7f1a012d-383d-4735-8c9d-f3a611b38431",
   "metadata": {},
   "outputs": [
    {
     "name": "stdout",
     "output_type": "stream",
     "text": [
      "Flat List: [1, 2, 3, 4, 44, 55, 66, 34, 56, 78, 89, 34, 1, 2, 3, 1, 34, 55, 67, 78, 89, 4, 45, 22, 61, 34, 56]\n",
      "Product: 4134711838987085478833841242112000\n"
     ]
    }
   ],
   "source": [
    "from functools import reduce\n",
    "def func1(ls):\n",
    "    l1 = []\n",
    "    for i in ls:\n",
    "        if type(i) == int:\n",
    "            l1.append(i)\n",
    "        elif type(i) == list or type(i) == tuple or type(i) == set:\n",
    "            for j in i:\n",
    "                if type(j) == int:\n",
    "                    l1.append(j)\n",
    "        elif type(i) == dict:\n",
    "            for j in i.items():\n",
    "                for k in j:\n",
    "                    if type(k) == int:\n",
    "                        l1.append(k)\n",
    "                    elif type(k) == list or type(k) == tuple or type(k) == set:\n",
    "                        for l in k:\n",
    "                            if type(l) == int:\n",
    "                                l1.append(l)\n",
    "    print(\"Flat List: {}\".format(l1))\n",
    "    print(\"Product: {}\".format(reduce(lambda x,y: x*y,l1)))\n",
    "\n",
    "list1 = [1,2,3,4,[44,55,66,True],False,(34,56,78,89,34),{1,2,3,3,2,1,},{1:34,\"key2\":[55,67,78,89],4:(45,22,61,34)},[56,'data science'],'Machine Learning']\n",
    "func1(list1)"
   ]
  },
  {
   "cell_type": "markdown",
   "id": "09d5072f-e17e-406e-9447-10d6f219b64c",
   "metadata": {
    "tags": []
   },
   "source": [
    "## Q2"
   ]
  },
  {
   "cell_type": "code",
   "execution_count": 39,
   "id": "ce040179-a474-45c7-ae09-1136e17a70f1",
   "metadata": {},
   "outputs": [
    {
     "name": "stdout",
     "output_type": "stream",
     "text": [
      "r$dzmg$gl$yvxlnv$z$wzgz$hxrvmgrhg\n"
     ]
    }
   ],
   "source": [
    "def encrypt(message):\n",
    "    result = ''\n",
    "    message = message.lower()\n",
    "    for char in message:\n",
    "        if char.isalpha():\n",
    "            result += chr(219 - ord(char))\n",
    "        elif char.isspace():\n",
    "            result += '$'\n",
    "        else:\n",
    "            result += char\n",
    "    return result\n",
    "\n",
    "string = \"I want to become a Data Scientist\"\n",
    "\n",
    "st = encrypt(string)\n",
    "print(st)"
   ]
  }
 ],
 "metadata": {
  "kernelspec": {
   "display_name": "Python 3 (ipykernel)",
   "language": "python",
   "name": "python3"
  },
  "language_info": {
   "codemirror_mode": {
    "name": "ipython",
    "version": 3
   },
   "file_extension": ".py",
   "mimetype": "text/x-python",
   "name": "python",
   "nbconvert_exporter": "python",
   "pygments_lexer": "ipython3",
   "version": "3.10.8"
  }
 },
 "nbformat": 4,
 "nbformat_minor": 5
}
