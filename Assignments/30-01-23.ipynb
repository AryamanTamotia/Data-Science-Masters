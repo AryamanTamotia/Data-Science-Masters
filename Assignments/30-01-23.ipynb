{
 "cells": [
  {
   "cell_type": "markdown",
   "id": "68c268f7-a9a4-4cc8-b5c3-fa5230f2887f",
   "metadata": {},
   "source": [
    "# 30 January 2023"
   ]
  },
  {
   "cell_type": "markdown",
   "id": "bd72fdae-0c30-47f7-9e29-25dda20156e7",
   "metadata": {
    "tags": []
   },
   "source": [
    "## Q1"
   ]
  },
  {
   "cell_type": "code",
   "execution_count": 4,
   "id": "5b9d2c8e-fc07-407f-a377-c3a983e3c2eb",
   "metadata": {},
   "outputs": [
    {
     "name": "stdin",
     "output_type": "stream",
     "text": [
      "Enter your percentage:  45\n"
     ]
    },
    {
     "name": "stdout",
     "output_type": "stream",
     "text": [
      "Grade: D\n"
     ]
    }
   ],
   "source": [
    "per = int(input(\"Enter your percentage: \"))\n",
    "if per>90:\n",
    "    print(\"Grade: A\")\n",
    "elif per>80 and per<=90:\n",
    "    print(\"Grade: B\")\n",
    "elif per>=60 and per<=80:\n",
    "    print(\"Grade: C\")\n",
    "else:\n",
    "    print(\"Grade: D\")"
   ]
  },
  {
   "cell_type": "markdown",
   "id": "7875dbd3-aa12-4207-914a-912e4fc54ed0",
   "metadata": {
    "tags": []
   },
   "source": [
    "## Q2"
   ]
  },
  {
   "cell_type": "code",
   "execution_count": 5,
   "id": "95dfce9f-caf6-4a4b-8958-81b99a0fc00e",
   "metadata": {},
   "outputs": [
    {
     "name": "stdin",
     "output_type": "stream",
     "text": [
      "Enter the cost price:  56000\n"
     ]
    },
    {
     "name": "stdout",
     "output_type": "stream",
     "text": [
      "Tax: 10%\n"
     ]
    }
   ],
   "source": [
    "cp = int(input(\"Enter the cost price: \"))\n",
    "if cp>100000:\n",
    "    print(\"Tax: 15%\")\n",
    "elif cp>50000 and cp<=100000:\n",
    "    print(\"Tax: 10%\")\n",
    "else:\n",
    "    print(\"Tax: 5%\")"
   ]
  },
  {
   "cell_type": "markdown",
   "id": "031e552c-5d86-4fa3-8e4d-03ca78bc784d",
   "metadata": {},
   "source": [
    "## Q3"
   ]
  },
  {
   "cell_type": "code",
   "execution_count": 9,
   "id": "3b79ec64-f5ae-43a7-bb41-7e8b3f18e09b",
   "metadata": {},
   "outputs": [
    {
     "name": "stdin",
     "output_type": "stream",
     "text": [
      "Enter the city:  Delhi\n"
     ]
    },
    {
     "name": "stdout",
     "output_type": "stream",
     "text": [
      "Monument: Red Fort\n"
     ]
    }
   ],
   "source": [
    "city = input(\"Enter the city: \")\n",
    "if city=='Delhi':\n",
    "    print(\"Monument: Red Fort\")\n",
    "elif city=='Agra':\n",
    "    print(\"Monument: Taj Mahal\")\n",
    "else:\n",
    "    print(\"Monument: Jal Mahal\")"
   ]
  },
  {
   "cell_type": "markdown",
   "id": "2c0147c0-3ad0-4568-bf19-ea414846c221",
   "metadata": {},
   "source": [
    "## Q4"
   ]
  },
  {
   "cell_type": "code",
   "execution_count": 11,
   "id": "c45eeffe-2ae5-406d-a297-ca779d8559ff",
   "metadata": {},
   "outputs": [
    {
     "name": "stdin",
     "output_type": "stream",
     "text": [
      "Enter the number:  50\n"
     ]
    },
    {
     "name": "stdout",
     "output_type": "stream",
     "text": [
      "Count: 2\n"
     ]
    }
   ],
   "source": [
    "num = int(input(\"Enter the number: \"))\n",
    "count=0\n",
    "while(num>10):\n",
    "    num=num/3\n",
    "    count=count+1\n",
    "print(\"Count: {}\".format(count))"
   ]
  },
  {
   "cell_type": "markdown",
   "id": "8982a827-6b45-4a93-b9c4-0d2139b34c14",
   "metadata": {},
   "source": [
    "## Q5"
   ]
  },
  {
   "cell_type": "markdown",
   "id": "ba9a3326-e412-4d8c-a96e-81e5a805cc20",
   "metadata": {},
   "source": [
    "In Python, a while loop is used when you want to execute a block of code repeatedly as long as a particular condition is true. The loop will continue to run until the condition becomes false. It is generally used when the number of iterations required is not known beforehand. \n",
    "For example, in the previous question we had to find the number of times a number can be divided by 3 till it is greater  than 10. Here we don't exactly know the number of repetitions so we use while loop."
   ]
  },
  {
   "cell_type": "code",
   "execution_count": 22,
   "id": "92c24438-ddc7-46f7-877c-2418c736bf64",
   "metadata": {},
   "outputs": [
    {
     "name": "stdin",
     "output_type": "stream",
     "text": [
      "Enter the number:  59\n"
     ]
    },
    {
     "name": "stdout",
     "output_type": "stream",
     "text": [
      "Count: 2\n"
     ]
    }
   ],
   "source": [
    "num = int(input(\"Enter the number: \"))\n",
    "count=0\n",
    "while(num>10):\n",
    "    num=num/3\n",
    "    count=count+1\n",
    "print(\"Count: {}\".format(count))"
   ]
  },
  {
   "cell_type": "markdown",
   "id": "c8bcb2a4-ae34-43b3-895b-d3962bc01f24",
   "metadata": {},
   "source": [
    "## Q6"
   ]
  },
  {
   "cell_type": "code",
   "execution_count": 15,
   "id": "e5be88dd-adf2-42df-9e67-f52a6ca4d062",
   "metadata": {},
   "outputs": [
    {
     "name": "stdout",
     "output_type": "stream",
     "text": [
      "* * * * \n",
      "\n",
      "* * * \n",
      "\n",
      "* * \n",
      "\n",
      "* \n",
      "\n",
      "\n",
      "\n"
     ]
    }
   ],
   "source": [
    "m=5\n",
    "while(m>0):\n",
    "    n=m-1\n",
    "    while(n>0):\n",
    "        print(\"*\",end=\" \")\n",
    "        n=n-1\n",
    "    print(\"\\n\")\n",
    "    m=m-1"
   ]
  },
  {
   "cell_type": "code",
   "execution_count": null,
   "id": "0d2c45f9-ed7c-495a-bed9-5115f542fda0",
   "metadata": {},
   "outputs": [],
   "source": [
    "m=5\n",
    "while(m>0):\n",
    "    n=m-1\n",
    "    while(n>0):\n",
    "        print(\"*\",end=\" \")\n",
    "        n=n-1\n",
    "    print(\"\\n\")\n",
    "    m=m-1"
   ]
  },
  {
   "cell_type": "markdown",
   "id": "ad14dfa3-ace6-4485-b1af-fc67e11656b0",
   "metadata": {},
   "source": [
    "## Q7"
   ]
  },
  {
   "cell_type": "code",
   "execution_count": 20,
   "id": "68126590-731c-4d4c-8992-8e3032d59f55",
   "metadata": {},
   "outputs": [
    {
     "name": "stdout",
     "output_type": "stream",
     "text": [
      "10\n",
      "9\n",
      "8\n",
      "7\n",
      "6\n",
      "5\n",
      "4\n",
      "3\n",
      "2\n",
      "1\n"
     ]
    }
   ],
   "source": [
    "n=10\n",
    "while(n>0):\n",
    "    print(n)\n",
    "    n=n-1"
   ]
  },
  {
   "cell_type": "markdown",
   "id": "509a78fb-0ce1-4896-bec7-49346fcefd89",
   "metadata": {},
   "source": [
    "## Q8"
   ]
  },
  {
   "cell_type": "code",
   "execution_count": 21,
   "id": "e772fbfd-1038-4e16-b27e-eb0f653c7e80",
   "metadata": {},
   "outputs": [
    {
     "name": "stdout",
     "output_type": "stream",
     "text": [
      "10\n",
      "9\n",
      "8\n",
      "7\n",
      "6\n",
      "5\n",
      "4\n",
      "3\n",
      "2\n",
      "1\n"
     ]
    }
   ],
   "source": [
    "n=10\n",
    "while(n>0):\n",
    "    print(n)\n",
    "    n=n-1"
   ]
  }
 ],
 "metadata": {
  "kernelspec": {
   "display_name": "Python 3 (ipykernel)",
   "language": "python",
   "name": "python3"
  },
  "language_info": {
   "codemirror_mode": {
    "name": "ipython",
    "version": 3
   },
   "file_extension": ".py",
   "mimetype": "text/x-python",
   "name": "python",
   "nbconvert_exporter": "python",
   "pygments_lexer": "ipython3",
   "version": "3.10.8"
  }
 },
 "nbformat": 4,
 "nbformat_minor": 5
}
