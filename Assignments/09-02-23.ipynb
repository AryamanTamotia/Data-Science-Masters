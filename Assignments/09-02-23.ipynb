{
 "cells": [
  {
   "cell_type": "markdown",
   "id": "5baa5844-59c1-480f-b89c-f8c38c40fa81",
   "metadata": {},
   "source": [
    "# 09 February 2023"
   ]
  },
  {
   "cell_type": "markdown",
   "id": "50428e9c-ef29-40cc-afc8-9fa9aa62e1bb",
   "metadata": {
    "tags": []
   },
   "source": [
    "## Q1"
   ]
  },
  {
   "cell_type": "code",
   "execution_count": 1,
   "id": "4a77f1e4-30b0-497e-b093-7826ee052173",
   "metadata": {},
   "outputs": [
    {
     "name": "stdout",
     "output_type": "stream",
     "text": [
      "Name: Toyota\n",
      "Max Speed: 120\n",
      "Average: 20\n"
     ]
    }
   ],
   "source": [
    "class vehicle():\n",
    "    \n",
    "    def __init__(self, name_of_vehicle, max_speed, average_of_vehicle):\n",
    "        self.name_of_vehicle=name_of_vehicle\n",
    "        self.max_speed=max_speed\n",
    "        self.average_of_vehicle=average_of_vehicle\n",
    "        \n",
    "    def print_details(self):\n",
    "        print(f\"Name: {self.name_of_vehicle}\")\n",
    "        print(f\"Max Speed: {self.max_speed}\")\n",
    "        print(f\"Average: {self.average_of_vehicle}\")\n",
    "        \n",
    "car1 = vehicle(\"Toyota\", 120, 20)\n",
    "car1.print_details()"
   ]
  },
  {
   "cell_type": "markdown",
   "id": "9e2e68a0-9df2-42d8-a36d-6fae7500426f",
   "metadata": {
    "tags": []
   },
   "source": [
    "## Q2"
   ]
  },
  {
   "cell_type": "code",
   "execution_count": 8,
   "id": "02a9a242-41f7-453f-991a-84c42c9d83d5",
   "metadata": {},
   "outputs": [
    {
     "data": {
      "text/plain": [
       "('Toyota', 25)"
      ]
     },
     "execution_count": 8,
     "metadata": {},
     "output_type": "execute_result"
    }
   ],
   "source": [
    "class vehicle():\n",
    "    \n",
    "    def __init__(self, name_of_vehicle, max_speed, average_of_vehicle):\n",
    "        self.name_of_vehicle=name_of_vehicle\n",
    "        self.max_speed=max_speed\n",
    "        self.average_of_vehicle=average_of_vehicle\n",
    "        \n",
    "class car(vehicle):\n",
    "    \n",
    "    def seating_capacity(self, capacity):\n",
    "        self.seating_capacity=capacity\n",
    "        return self.name_of_vehicle, self.seating_capacity\n",
    "\n",
    "car1 = car('Toyota', 120, 20)\n",
    "car1.seating_capacity(25)"
   ]
  },
  {
   "cell_type": "markdown",
   "id": "bd32de5c-1109-4852-b9bb-e16efe906bde",
   "metadata": {},
   "source": [
    "## Q3"
   ]
  },
  {
   "cell_type": "markdown",
   "id": "082fdbf2-a5ce-426c-b090-4a94efa1e1ca",
   "metadata": {},
   "source": [
    "Multiple inheritance is a feature in object-oriented programming where a class can inherit attributes and methods from more than one parent class. It allows a subclass to inherit properties and behavior from multiple parent classes."
   ]
  },
  {
   "cell_type": "code",
   "execution_count": 9,
   "id": "55129033-fb20-45de-97c4-07d98825ae5f",
   "metadata": {},
   "outputs": [
    {
     "name": "stdout",
     "output_type": "stream",
     "text": [
      "This is from class A\n",
      "This is from class B\n",
      "This is from class C\n"
     ]
    }
   ],
   "source": [
    "class A:\n",
    "    def methodA(self):\n",
    "        print(\"This is from class A\")\n",
    "\n",
    "class B:\n",
    "    def methodB(self):\n",
    "        print(\"This is from class B\")\n",
    "\n",
    "class C(A, B):\n",
    "    def methodC(self):\n",
    "        print(\"This is from class C\")\n",
    "\n",
    "obj = C()\n",
    "obj.methodA() \n",
    "obj.methodB() \n",
    "obj.methodC() "
   ]
  },
  {
   "cell_type": "markdown",
   "id": "568218db-4d74-4601-993e-d118c77f4fb1",
   "metadata": {},
   "source": [
    "## Q4"
   ]
  },
  {
   "cell_type": "markdown",
   "id": "a1a9ee33-98a2-4643-9e8e-c81be9ac3b54",
   "metadata": {},
   "source": [
    "In Python, getters and setters are methods used to access and modify the values of instance variables. They allow for more control over the values of instance variables and provide a way to enforce data encapsulation."
   ]
  },
  {
   "cell_type": "code",
   "execution_count": 11,
   "id": "4209e3a6-3486-46df-8af7-54a8d6b38deb",
   "metadata": {},
   "outputs": [
    {
     "name": "stdout",
     "output_type": "stream",
     "text": [
      "Alice\n",
      "Bob\n",
      "25\n",
      "Age cannot be negative\n",
      "25\n",
      "30\n"
     ]
    }
   ],
   "source": [
    "class Person:\n",
    "    def __init__(self, name, age):\n",
    "        self.__name = name\n",
    "        self.__age = age\n",
    "\n",
    "    def get_name(self):\n",
    "        return self.__name\n",
    "\n",
    "    def set_name(self, name):\n",
    "        self.__name = name\n",
    "\n",
    "    def get_age(self):\n",
    "        return self.__age\n",
    "\n",
    "    def set_age(self, age):\n",
    "        if age >= 0:\n",
    "            self.__age = age\n",
    "        else:\n",
    "            print(\"Age cannot be negative\")\n",
    "\n",
    "p = Person(\"Alice\", 25)\n",
    "print(p.get_name())  \n",
    "p.set_name(\"Bob\")\n",
    "print(p.get_name())\n",
    "print(p.get_age())\n",
    "p.set_age(-10)     \n",
    "print(p.get_age())\n",
    "p.set_age(30)\n",
    "print(p.get_age())\n"
   ]
  },
  {
   "cell_type": "markdown",
   "id": "13f0cebe-50fe-479d-aa2e-87627c09b807",
   "metadata": {},
   "source": [
    "## Q5"
   ]
  },
  {
   "cell_type": "markdown",
   "id": "f0d441e1-ebde-48da-a2df-591c7a0232e7",
   "metadata": {},
   "source": [
    "Method overriding is a feature in object-oriented programming that allows a subclass to provide its own implementation of a method that is already defined in its superclass. When a method in the subclass has the same name, same parameters or signature, and same return type as a method in its superclass, the method in the subclass overrides the method in the superclass."
   ]
  },
  {
   "cell_type": "code",
   "execution_count": 13,
   "id": "271543df-18a4-4857-b3ec-e1c35305780d",
   "metadata": {},
   "outputs": [
    {
     "name": "stdout",
     "output_type": "stream",
     "text": [
      "Generic animal sound\n",
      "Bark\n",
      "Meow\n"
     ]
    }
   ],
   "source": [
    "class Animal:\n",
    "    def make_sound(self):\n",
    "        print(\"Generic animal sound\")\n",
    "\n",
    "class Dog(Animal):\n",
    "    def make_sound(self):\n",
    "        print(\"Bark\")\n",
    "\n",
    "class Cat(Animal):\n",
    "    def make_sound(self):\n",
    "        print(\"Meow\")\n",
    "\n",
    "a = Animal()\n",
    "a.make_sound() \n",
    "\n",
    "d = Dog()\n",
    "d.make_sound() \n",
    "\n",
    "c = Cat()\n",
    "c.make_sound() "
   ]
  }
 ],
 "metadata": {
  "kernelspec": {
   "display_name": "Python 3",
   "language": "python",
   "name": "python3"
  },
  "language_info": {
   "codemirror_mode": {
    "name": "ipython",
    "version": 3
   },
   "file_extension": ".py",
   "mimetype": "text/x-python",
   "name": "python",
   "nbconvert_exporter": "python",
   "pygments_lexer": "ipython3",
   "version": "3.10.4"
  },
  "vscode": {
   "interpreter": {
    "hash": "8a21c68923ba772bc0c2da98935e3d13ba91eb732ea5f07193362d0e8b3b3e67"
   }
  }
 },
 "nbformat": 4,
 "nbformat_minor": 5
}
