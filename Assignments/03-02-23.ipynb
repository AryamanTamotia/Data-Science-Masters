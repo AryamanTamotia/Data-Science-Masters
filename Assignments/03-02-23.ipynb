{
 "cells": [
  {
   "cell_type": "markdown",
   "id": "26f65331-aec9-48dd-abb6-7118c159d8f5",
   "metadata": {},
   "source": [
    "# 03February 2023"
   ]
  },
  {
   "cell_type": "markdown",
   "id": "a29d655b-74f4-445b-a03e-b1bf9867ac7e",
   "metadata": {
    "tags": []
   },
   "source": [
    "## Q1"
   ]
  },
  {
   "cell_type": "markdown",
   "id": "f6f3a42f-fd57-4293-a96a-feb875030055",
   "metadata": {},
   "source": [
    "'def' keyword is used to create a function."
   ]
  },
  {
   "cell_type": "code",
   "execution_count": 8,
   "id": "42d04b29-b605-4065-b8ba-dcbf0a0ab549",
   "metadata": {},
   "outputs": [],
   "source": [
    "def func():\n",
    "    l=[]\n",
    "    for i in range(1,26):\n",
    "        if i%2!=0:\n",
    "            l.append(i)\n",
    "    return l"
   ]
  },
  {
   "cell_type": "code",
   "execution_count": 9,
   "id": "54b904c6-bad6-4e4f-829f-b6349af18fdb",
   "metadata": {},
   "outputs": [
    {
     "data": {
      "text/plain": [
       "[1, 3, 5, 7, 9, 11, 13, 15, 17, 19, 21, 23, 25]"
      ]
     },
     "execution_count": 9,
     "metadata": {},
     "output_type": "execute_result"
    }
   ],
   "source": [
    "func()"
   ]
  },
  {
   "cell_type": "markdown",
   "id": "673e40da-3b2c-4ac7-bf27-16dd1c836669",
   "metadata": {
    "tags": []
   },
   "source": [
    "## Q2"
   ]
  },
  {
   "cell_type": "markdown",
   "id": "2bbb82cb-0c8d-441c-ba37-e82a5380c72d",
   "metadata": {},
   "source": [
    "'*args' is used when the number of arguments required from the user is variable. \n",
    "'**kwargs' is used when a dictionary is taken as an argument for a function"
   ]
  },
  {
   "cell_type": "code",
   "execution_count": 12,
   "id": "e805af0b-a5cf-4ad9-93c0-c95c8ddfdf63",
   "metadata": {},
   "outputs": [
    {
     "data": {
      "text/plain": [
       "(1, 2, 3, 'abc', 'def')"
      ]
     },
     "execution_count": 12,
     "metadata": {},
     "output_type": "execute_result"
    }
   ],
   "source": [
    "def func1(*args):\n",
    "    return args\n",
    "func1(1,2,3,'abc','def')"
   ]
  },
  {
   "cell_type": "code",
   "execution_count": 21,
   "id": "8ed2395a-d315-4acf-b427-a9f00d18da9d",
   "metadata": {},
   "outputs": [
    {
     "data": {
      "text/plain": [
       "{'a': 1, 'b': 23}"
      ]
     },
     "execution_count": 21,
     "metadata": {},
     "output_type": "execute_result"
    }
   ],
   "source": [
    "def func2(**kwargs):\n",
    "    return kwargs\n",
    "func2(a=1,b=23)"
   ]
  },
  {
   "cell_type": "markdown",
   "id": "b6e1347c-bc3f-4e2d-8b0a-7daeebb241ee",
   "metadata": {},
   "source": [
    "## Q3"
   ]
  },
  {
   "cell_type": "markdown",
   "id": "be11710e-3e84-48cd-aa0b-4f7e9e145934",
   "metadata": {},
   "source": [
    "In Python, an iterator is an object that allows iteration over a collection of elements. An iterator is an object that implements the iterator protocol, which consists of the iter() and next() methods.\n",
    "\n",
    "The iter() method initializes the iterator object, and the next() method returns the next element in the sequence."
   ]
  },
  {
   "cell_type": "code",
   "execution_count": 30,
   "id": "6fc831d0-3442-4254-b16e-eeacd462cf7a",
   "metadata": {},
   "outputs": [
    {
     "name": "stdout",
     "output_type": "stream",
     "text": [
      "2\n",
      "4\n",
      "6\n",
      "8\n",
      "10\n"
     ]
    }
   ],
   "source": [
    "l=[2,4,6,8,10,12,14,16,18,20]\n",
    "it = iter(l)\n",
    "for i in range(5):\n",
    "    print(next(it))\n"
   ]
  },
  {
   "cell_type": "markdown",
   "id": "187b3346-1f28-483d-90a0-5d8b8faf5a05",
   "metadata": {},
   "source": [
    "## Q4"
   ]
  },
  {
   "cell_type": "markdown",
   "id": "6ac1303d-92ba-4de2-8d11-118603c5e6db",
   "metadata": {},
   "source": [
    "In Python, a generator function is a special type of function that returns an iterator. It allows us to generate a sequence of values on the fly, rather than computing them all at once and storing them in memory. A generator function is defined using the yield keyword instead of return.\n",
    "\n",
    "The yield keyword is used to produce a generator object that returns a sequence of values. When the yield keyword is encountered in a generator function, the function's state is saved, and the yielded value is returned. The next time the generator is called, execution resumes from where it left off and continues until the next yield statement is encountered."
   ]
  },
  {
   "cell_type": "code",
   "execution_count": 28,
   "id": "17f0fbcf-825c-4fa3-b752-10edf9c3acc5",
   "metadata": {},
   "outputs": [
    {
     "name": "stdout",
     "output_type": "stream",
     "text": [
      "0\n",
      "1\n",
      "1\n",
      "2\n",
      "3\n",
      "5\n",
      "8\n",
      "13\n",
      "21\n",
      "34\n"
     ]
    }
   ],
   "source": [
    "def fibonacci():\n",
    "    a, b = 0, 1\n",
    "    while True:\n",
    "        yield a\n",
    "        a, b = b, a + b\n",
    "fib=fibonacci()\n",
    "for i in range(10):\n",
    "    print(next(fib))"
   ]
  },
  {
   "cell_type": "markdown",
   "id": "4a70e2b3-5d64-4406-8ac7-f34c34d59cd4",
   "metadata": {},
   "source": [
    "## Q5"
   ]
  },
  {
   "cell_type": "code",
   "execution_count": 33,
   "id": "0c125ab2-ab3e-479b-b097-c46e0aaa1b5a",
   "metadata": {},
   "outputs": [
    {
     "name": "stdout",
     "output_type": "stream",
     "text": [
      "2\n",
      "3\n",
      "5\n",
      "7\n",
      "11\n",
      "13\n",
      "17\n",
      "19\n",
      "23\n",
      "29\n",
      "31\n",
      "37\n",
      "41\n",
      "43\n",
      "47\n",
      "53\n",
      "59\n",
      "61\n",
      "67\n",
      "71\n"
     ]
    }
   ],
   "source": [
    "def primes():\n",
    "    num = 2\n",
    "    while True:\n",
    "        for i in range(2, num):\n",
    "            if num % i == 0:\n",
    "                break\n",
    "        else:\n",
    "            yield num\n",
    "        num += 1\n",
    "prime_gen = primes()\n",
    "\n",
    "for i in range(20):\n",
    "    print(next(prime_gen))"
   ]
  },
  {
   "cell_type": "markdown",
   "id": "95392c19-73e8-4a3d-a0ba-c23999d87ebf",
   "metadata": {},
   "source": [
    "## Q6"
   ]
  },
  {
   "cell_type": "code",
   "execution_count": 35,
   "id": "0c867e51-4ca1-49fe-b70c-f01443852e28",
   "metadata": {},
   "outputs": [
    {
     "name": "stdout",
     "output_type": "stream",
     "text": [
      "0\n",
      "1\n",
      "1\n",
      "2\n",
      "3\n",
      "5\n",
      "8\n",
      "13\n",
      "21\n",
      "34\n"
     ]
    }
   ],
   "source": [
    "a,b=0,1\n",
    "count=10\n",
    "while count>0:\n",
    "    print(a)\n",
    "    c=a+b\n",
    "    a=b\n",
    "    b=c\n",
    "    count=count-1"
   ]
  },
  {
   "cell_type": "markdown",
   "id": "95876e68-d247-4fd2-8825-7160bc279703",
   "metadata": {},
   "source": [
    "## Q7"
   ]
  },
  {
   "cell_type": "code",
   "execution_count": 40,
   "id": "a5bd16d8-94c6-4216-932d-c167eae7c96a",
   "metadata": {},
   "outputs": [
    {
     "data": {
      "text/plain": [
       "['p', 'w', 's', 'k', 'i', 'l', 'l', 's']"
      ]
     },
     "execution_count": 40,
     "metadata": {},
     "output_type": "execute_result"
    }
   ],
   "source": [
    "string='pwskills'\n",
    "[i  for i in string]"
   ]
  },
  {
   "cell_type": "markdown",
   "id": "4ab37204-2327-4e25-97ec-38936d62286a",
   "metadata": {},
   "source": [
    "## Q8"
   ]
  },
  {
   "cell_type": "code",
   "execution_count": 46,
   "id": "959b2d50-8ced-46e0-bdb6-14dd32a2a96e",
   "metadata": {},
   "outputs": [
    {
     "name": "stdin",
     "output_type": "stream",
     "text": [
      "Enter the number:  121\n"
     ]
    },
    {
     "name": "stdout",
     "output_type": "stream",
     "text": [
      "Pallindrome\n"
     ]
    }
   ],
   "source": [
    "num=int(input(\"Enter the number: \"))\n",
    "rev=0\n",
    "a=num\n",
    "while(a>0):\n",
    "    b=a%10\n",
    "    a=a//10\n",
    "    rev=rev*10+b\n",
    "if num==rev:\n",
    "    print(\"Pallindrome\")\n",
    "else:\n",
    "    print(\"Not a pallindrome\")"
   ]
  },
  {
   "cell_type": "markdown",
   "id": "f2982fc6-6fd8-4fe4-a657-9abc228fb19b",
   "metadata": {},
   "source": [
    "## Q9"
   ]
  },
  {
   "cell_type": "code",
   "execution_count": 47,
   "id": "b453b4e9-3e57-46bd-9837-5baf66af286c",
   "metadata": {},
   "outputs": [
    {
     "data": {
      "text/plain": [
       "[1,\n",
       " 3,\n",
       " 5,\n",
       " 7,\n",
       " 9,\n",
       " 11,\n",
       " 13,\n",
       " 15,\n",
       " 17,\n",
       " 19,\n",
       " 21,\n",
       " 23,\n",
       " 25,\n",
       " 27,\n",
       " 29,\n",
       " 31,\n",
       " 33,\n",
       " 35,\n",
       " 37,\n",
       " 39,\n",
       " 41,\n",
       " 43,\n",
       " 45,\n",
       " 47,\n",
       " 49,\n",
       " 51,\n",
       " 53,\n",
       " 55,\n",
       " 57,\n",
       " 59,\n",
       " 61,\n",
       " 63,\n",
       " 65,\n",
       " 67,\n",
       " 69,\n",
       " 71,\n",
       " 73,\n",
       " 75,\n",
       " 77,\n",
       " 79,\n",
       " 81,\n",
       " 83,\n",
       " 85,\n",
       " 87,\n",
       " 89,\n",
       " 91,\n",
       " 93,\n",
       " 95,\n",
       " 97,\n",
       " 99]"
      ]
     },
     "execution_count": 47,
     "metadata": {},
     "output_type": "execute_result"
    }
   ],
   "source": [
    "[i for i in range(1,101) if i%2!=0]"
   ]
  }
 ],
 "metadata": {
  "kernelspec": {
   "display_name": "Python 3 (ipykernel)",
   "language": "python",
   "name": "python3"
  },
  "language_info": {
   "codemirror_mode": {
    "name": "ipython",
    "version": 3
   },
   "file_extension": ".py",
   "mimetype": "text/x-python",
   "name": "python",
   "nbconvert_exporter": "python",
   "pygments_lexer": "ipython3",
   "version": "3.10.8"
  }
 },
 "nbformat": 4,
 "nbformat_minor": 5
}
