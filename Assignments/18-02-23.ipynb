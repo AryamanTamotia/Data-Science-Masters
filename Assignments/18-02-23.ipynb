{
 "cells": [
  {
   "cell_type": "markdown",
   "id": "a946edd3-39b7-479b-8635-cc1fa15e9dd1",
   "metadata": {},
   "source": [
    "# 18 February 2023"
   ]
  },
  {
   "cell_type": "markdown",
   "id": "04c89a60-646d-4fa4-87f4-2ad02d1ead74",
   "metadata": {
    "tags": []
   },
   "source": [
    "## Q1"
   ]
  },
  {
   "cell_type": "markdown",
   "id": "9ac53464-e7eb-42cf-876b-7ed9bad3ff41",
   "metadata": {},
   "source": [
    "API stands for Application Programming Interface. It is a set of protocols and tools used for building software applications. APIs define how different components of software applications should interact with each other. They allow different applications to communicate and exchange data with each other.\n",
    "\n",
    "One example of an API being used in real life is in the case of weather applications. Weather applications obtain data from a weather API to provide users with real-time weather information. The API collects data from various weather stations and provides it in a standardized format, allowing developers to easily integrate it into their applications. "
   ]
  },
  {
   "cell_type": "markdown",
   "id": "0e00cf50-eaa4-4eab-8929-a377976ab2f7",
   "metadata": {
    "tags": []
   },
   "source": [
    "## Q2"
   ]
  },
  {
   "cell_type": "markdown",
   "id": "3fb0debf-a4ff-4a56-a2ba-aa118ccf2817",
   "metadata": {
    "tags": []
   },
   "source": [
    "Advantages of using API:\n",
    "\n",
    "1. Interoperability: APIs make it possible for different software applications to communicate and exchange data with each other, even if they are developed by different companies or are written in different programming languages.\n",
    "\n",
    "2. Efficiency: APIs can reduce the amount of work developers need to do by providing pre-built functionality and services that can be integrated into an application.\n",
    "\n",
    "3. Customizability: APIs can be used to build custom integrations and functionality that meet specific business needs.\n",
    "\n",
    "4. Scalability: APIs can help applications scale by allowing them to offload workloads to external services and resources.\n",
    "\n",
    "5. Innovation: APIs can foster innovation by enabling developers to create new applications and services that build on top of existing ones.\n",
    "\n",
    "Disadvantages of using API:\n",
    "\n",
    "1. Security: APIs can pose a security risk if they are not properly secured, exposing sensitive data to unauthorized users or enabling them to perform malicious actions.\n",
    "\n",
    "2. Complexity: APIs can be complex and difficult to understand and use, especially for developers who are not familiar with the API's underlying technology or programming language.\n",
    "\n",
    "3. Dependency: Applications that rely heavily on APIs are dependent on the availability and reliability of those APIs. If an API goes down or experiences performance issues, it can have a significant impact on the application that relies on it.\n",
    "\n",
    "4. Cost: Some APIs require developers to pay for access or usage, which can add to the overall cost of developing and maintaining an application.\n",
    "\n",
    "5. Maintenance: APIs require ongoing maintenance and updates, which can be time-consuming and costly for developers."
   ]
  },
  {
   "cell_type": "markdown",
   "id": "a1f8ffe3-c531-47f7-9c48-a8f1444aba03",
   "metadata": {},
   "source": [
    "## Q3"
   ]
  },
  {
   "cell_type": "markdown",
   "id": "8189ede4-6920-4922-b539-ad4d25cdebde",
   "metadata": {},
   "source": [
    "An API (Application Programming Interface) is a set of protocols, routines, and tools that allows software applications to communicate with each other. \n",
    "\n",
    "A web API is an API that is accessed over the web using HTTP(S) protocol. It uses REST (Representational State Transfer) architecture to transfer data between the client and server.\n",
    "\n",
    "The main differences between API and web API are:\n",
    "\n",
    "1. Scope: An API can be used for any type of application, whereas a web API is specifically designed to be used over the web.\n",
    "\n",
    "2. Protocol: APIs can use different protocols, such as RPC (Remote Procedure Call), SOAP (Simple Object Access Protocol), or REST. Web APIs use HTTP(S) protocol and REST architecture.\n",
    "\n",
    "3. Transport: APIs can be used over different types of transports, such as TCP/IP or UDP. Web APIs use the web transport layer.\n",
    "\n",
    "4. Interface: APIs can have different types of interfaces, such as command-line, graphical user interface (GUI), or web interface. Web APIs are designed to be accessed through a web interface."
   ]
  },
  {
   "cell_type": "markdown",
   "id": "7360dc90-9a8a-4a75-b02a-61315699834e",
   "metadata": {},
   "source": [
    "## Q4"
   ]
  },
  {
   "cell_type": "markdown",
   "id": "6201aa00-6b93-4e26-8505-a7f79047322c",
   "metadata": {},
   "source": [
    "REST is an architectural style that uses HTTP requests to retrieve or modify data, typically using JSON or XML as the data format. It is based on the principles of stateless client-server architecture and can be used over a variety of transport protocols, including HTTP, HTTPS, SMTP, and more. REST APIs are lightweight, scalable, and easy to build and maintain.\n",
    "\n",
    "SOAP, on the other hand, is an XML-based messaging protocol for exchanging data between applications over a network. It is a protocol that is designed to communicate between two systems over the internet, typically using XML as the data format. SOAP APIs are more complex than REST APIs, but they offer more advanced features such as security and transaction support.\n",
    "\n",
    "One of the main shortcomings of SOAP is its complexity. SOAP is a highly structured and standardized protocol, which can make it difficult to work with and implement. It also requires more processing power and bandwidth, which can slow down performance. Additionally, SOAP is often seen as less flexible than REST because it relies on XML as the data format, which can be more difficult to work with than JSON."
   ]
  },
  {
   "cell_type": "markdown",
   "id": "8128bcba-e18e-42ec-b2d3-07212a35b990",
   "metadata": {},
   "source": [
    "## Q5"
   ]
  },
  {
   "cell_type": "markdown",
   "id": "6f114a0d-787b-4323-a1f1-a6f6c306cec4",
   "metadata": {},
   "source": [
    "1. Architecture Style: REST is an architectural style that uses HTTP protocol to make calls between clients and servers, whereas SOAP is a protocol that uses XML messages over different transport protocols like HTTP, SMTP, or TCP.\n",
    "\n",
    "2. Data Format: REST uses simple data formats like XML, JSON, or plain text, while SOAP messages are formatted exclusively in XML.\n",
    "\n",
    "3. WSDL Dependency: REST doesn’t require a contract to be defined beforehand, while SOAP relies heavily on WSDL (Web Service Description Language) to define the contract.\n",
    "\n",
    "4. Performance: REST is considered to be faster and more efficient than SOAP since it uses smaller message formats and doesn’t require XML parsing, which is computationally expensive.\n",
    "\n",
    "5. Caching: REST allows caching of responses, while SOAP does not.\n",
    "\n",
    "6. Security: REST uses SSL to ensure data security, while SOAP has more advanced security protocols like WS-Security and WS-Trust.\n",
    "\n",
    "7. Scalability: REST is more scalable since it uses HTTP and can take advantage of caching, while SOAP has a more complex message structure and requires more overhead, which can limit scalability."
   ]
  }
 ],
 "metadata": {
  "kernelspec": {
   "display_name": "Python 3 (ipykernel)",
   "language": "python",
   "name": "python3"
  },
  "language_info": {
   "codemirror_mode": {
    "name": "ipython",
    "version": 3
   },
   "file_extension": ".py",
   "mimetype": "text/x-python",
   "name": "python",
   "nbconvert_exporter": "python",
   "pygments_lexer": "ipython3",
   "version": "3.10.8"
  }
 },
 "nbformat": 4,
 "nbformat_minor": 5
}
