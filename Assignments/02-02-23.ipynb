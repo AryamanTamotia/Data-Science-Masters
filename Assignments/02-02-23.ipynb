{
 "cells": [
  {
   "cell_type": "markdown",
   "id": "abb7f69b-2c18-45b9-94a0-9c09bd28693b",
   "metadata": {},
   "source": [
    "# 02 February 2023"
   ]
  },
  {
   "cell_type": "markdown",
   "id": "ed8135a5-1937-47be-bf69-175b12f0ccbc",
   "metadata": {
    "tags": []
   },
   "source": [
    "## Q1"
   ]
  },
  {
   "cell_type": "markdown",
   "id": "15ee6e19-fd52-493f-a5b0-501817afe5ad",
   "metadata": {},
   "source": [
    "For loops are used when we know the number of iterations needed and while loops are used when we don't know the number of iterations needed or when we want to repeat an action until a certain condition is met."
   ]
  },
  {
   "cell_type": "code",
   "execution_count": 1,
   "id": "25966453-996b-4bea-b861-bb4519983084",
   "metadata": {},
   "outputs": [
    {
     "name": "stdout",
     "output_type": "stream",
     "text": [
      "1\n",
      "2\n",
      "3\n",
      "4\n",
      "5\n"
     ]
    }
   ],
   "source": [
    "for i in range(1, 6):\n",
    "    print(i)"
   ]
  },
  {
   "cell_type": "code",
   "execution_count": 2,
   "id": "93e275e9-9bda-4010-8fbe-49a77bc14462",
   "metadata": {},
   "outputs": [
    {
     "name": "stdin",
     "output_type": "stream",
     "text": [
      "Please enter a word (or 'stop' to exit):  sdf\n"
     ]
    },
    {
     "name": "stdout",
     "output_type": "stream",
     "text": [
      "You entered: sdf\n"
     ]
    },
    {
     "name": "stdin",
     "output_type": "stream",
     "text": [
      "Please enter a word (or 'stop' to exit):  qw\n"
     ]
    },
    {
     "name": "stdout",
     "output_type": "stream",
     "text": [
      "You entered: qw\n"
     ]
    },
    {
     "name": "stdin",
     "output_type": "stream",
     "text": [
      "Please enter a word (or 'stop' to exit):  qw\n"
     ]
    },
    {
     "name": "stdout",
     "output_type": "stream",
     "text": [
      "You entered: qw\n"
     ]
    },
    {
     "name": "stdin",
     "output_type": "stream",
     "text": [
      "Please enter a word (or 'stop' to exit):  e\n"
     ]
    },
    {
     "name": "stdout",
     "output_type": "stream",
     "text": [
      "You entered: e\n"
     ]
    },
    {
     "name": "stdin",
     "output_type": "stream",
     "text": [
      "Please enter a word (or 'stop' to exit):  stop\n"
     ]
    },
    {
     "name": "stdout",
     "output_type": "stream",
     "text": [
      "You entered: stop\n"
     ]
    }
   ],
   "source": [
    "user_input = \"\"\n",
    "while user_input != \"stop\":\n",
    "    user_input = input(\"Please enter a word (or 'stop' to exit): \")\n",
    "    print(\"You entered:\", user_input)"
   ]
  },
  {
   "cell_type": "markdown",
   "id": "70e7dac9-010f-439a-808b-d21ec21cc2fe",
   "metadata": {
    "tags": []
   },
   "source": [
    "## Q2"
   ]
  },
  {
   "cell_type": "code",
   "execution_count": 3,
   "id": "1fc3e29f-acc7-44e9-9833-5d149938dda9",
   "metadata": {},
   "outputs": [
    {
     "name": "stdout",
     "output_type": "stream",
     "text": [
      "Sum: 55\n"
     ]
    }
   ],
   "source": [
    "summ=0\n",
    "for i in range(0,11):\n",
    "    summ=summ+i\n",
    "print(\"Sum: {}\".format(summ))"
   ]
  },
  {
   "cell_type": "code",
   "execution_count": 6,
   "id": "253587b0-c653-4f44-a6af-2336503d408d",
   "metadata": {},
   "outputs": [
    {
     "name": "stdout",
     "output_type": "stream",
     "text": [
      "Sum: 55\n"
     ]
    }
   ],
   "source": [
    "summ=0\n",
    "n=10\n",
    "while n>-1:\n",
    "    summ=summ+n\n",
    "    n=n-1\n",
    "print(\"Sum: {}\".format(summ))"
   ]
  },
  {
   "cell_type": "markdown",
   "id": "2da0ecf1-6f2f-423e-96d5-d15a0a5c829d",
   "metadata": {},
   "source": [
    "## Q3"
   ]
  },
  {
   "cell_type": "code",
   "execution_count": 10,
   "id": "2cbb24dd-c361-4c6b-b060-3b3975f99430",
   "metadata": {},
   "outputs": [
    {
     "name": "stdin",
     "output_type": "stream",
     "text": [
      "Enter the units consumed:  20\n"
     ]
    },
    {
     "name": "stdout",
     "output_type": "stream",
     "text": [
      "Total: 90.0\n"
     ]
    }
   ],
   "source": [
    "units = int(input(\"Enter the units consumed: \"))\n",
    "if units<=100:\n",
    "    total=units*4.5\n",
    "elif units>100 and units<=200:\n",
    "    total=((units-100)*6)+450\n",
    "elif units>200 and units<=300:\n",
    "    total=((units-200)*10)+1050\n",
    "else:\n",
    "    total=((units-300)*20)+2050\n",
    "print(\"Total: {}\".format(total))"
   ]
  },
  {
   "cell_type": "markdown",
   "id": "a2df5eb5-523c-4472-b69a-2257b6d3125a",
   "metadata": {},
   "source": [
    "## Q4"
   ]
  },
  {
   "cell_type": "code",
   "execution_count": 13,
   "id": "34806d94-647e-44c8-9df4-b34889a4a80d",
   "metadata": {},
   "outputs": [
    {
     "name": "stdout",
     "output_type": "stream",
     "text": [
      "[2, 4, 5, 6, 8, 10, 12, 14, 15, 16, 18, 20, 22, 24, 25, 26, 28, 30, 32, 34, 35, 36, 38, 40, 42, 44, 45, 46, 48, 50, 52, 54, 55, 56, 58, 60, 62, 64, 65, 66, 68, 70, 72, 74, 75, 76, 78, 80, 82, 84, 85, 86, 88, 90, 92, 94, 95, 96, 98, 100]\n"
     ]
    }
   ],
   "source": [
    "l = list(range(1,101))\n",
    "l1 = []\n",
    "for i in l:\n",
    "    cube=i*i*i\n",
    "    if cube%4==0 or cube%5==0:\n",
    "        l1.append(i)\n",
    "print(l1)"
   ]
  },
  {
   "cell_type": "markdown",
   "id": "4687e598-d25d-4a89-88ba-19922e86f1eb",
   "metadata": {},
   "source": [
    "## Q5"
   ]
  },
  {
   "cell_type": "code",
   "execution_count": 14,
   "id": "b70fb6d1-43a2-4258-aeb5-bfe246728e9b",
   "metadata": {},
   "outputs": [
    {
     "name": "stdout",
     "output_type": "stream",
     "text": [
      "11\n"
     ]
    }
   ],
   "source": [
    "string = \"I want to become a data scientist\"\n",
    "vowel = {'a','e','i','o','u'}\n",
    "count=0\n",
    "for i in string:\n",
    "    if i in vowel:\n",
    "        count=count+1\n",
    "print(count)"
   ]
  }
 ],
 "metadata": {
  "kernelspec": {
   "display_name": "Python 3 (ipykernel)",
   "language": "python",
   "name": "python3"
  },
  "language_info": {
   "codemirror_mode": {
    "name": "ipython",
    "version": 3
   },
   "file_extension": ".py",
   "mimetype": "text/x-python",
   "name": "python",
   "nbconvert_exporter": "python",
   "pygments_lexer": "ipython3",
   "version": "3.10.8"
  }
 },
 "nbformat": 4,
 "nbformat_minor": 5
}
