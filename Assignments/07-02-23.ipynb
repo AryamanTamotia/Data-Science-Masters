{
 "cells": [
  {
   "cell_type": "markdown",
   "id": "e70a7559-872c-479c-b503-0cda92941ce6",
   "metadata": {},
   "source": [
    "# 07 February 2023"
   ]
  },
  {
   "cell_type": "markdown",
   "id": "335ae811-4a5c-46ab-9339-588c456a0ca5",
   "metadata": {
    "tags": []
   },
   "source": [
    "## Q1"
   ]
  },
  {
   "cell_type": "code",
   "execution_count": 12,
   "id": "3ce3c810-7c7a-4d8b-a90e-125ed4671899",
   "metadata": {},
   "outputs": [
    {
     "data": {
      "text/plain": [
       "'Valid Password'"
      ]
     },
     "execution_count": 12,
     "metadata": {},
     "output_type": "execute_result"
    }
   ],
   "source": [
    "def check(pw):\n",
    "    if len(pw)<10:\n",
    "        return \"Invalid Password\"\n",
    "    count_lower = 0\n",
    "    count_upper = 0\n",
    "    count_digit = 0\n",
    "    count_special = 0\n",
    "    for i in pw:\n",
    "        if i.isalpha():\n",
    "            if i.islower():\n",
    "                count_lower+=1\n",
    "            elif i.isupper():\n",
    "                count_upper+=1\n",
    "        elif i.isdigit():\n",
    "            count_digit+=1\n",
    "        else:\n",
    "            count_special+=1\n",
    "    if count_lower<3 or count_upper<3 or count_digit<1 or count_special<3:\n",
    "        return \"Invalid Password\"\n",
    "    return \"Valid Password\"\n",
    "\n",
    "pw = \"Data Science Masters 1\"\n",
    "check(pw)"
   ]
  },
  {
   "cell_type": "markdown",
   "id": "152076ac-2a89-4015-8cfe-1b2cd1987874",
   "metadata": {
    "tags": []
   },
   "source": [
    "## Q2"
   ]
  },
  {
   "cell_type": "code",
   "execution_count": 13,
   "id": "a2de6614-a794-4124-9669-f7a39e0b136b",
   "metadata": {},
   "outputs": [
    {
     "data": {
      "text/plain": [
       "True"
      ]
     },
     "execution_count": 13,
     "metadata": {},
     "output_type": "execute_result"
    }
   ],
   "source": [
    "start = lambda string,letter : string.startswith(letter)\n",
    "string = \"PWSkills\"\n",
    "letter = \"P\"\n",
    "start(string,letter)"
   ]
  },
  {
   "cell_type": "code",
   "execution_count": 16,
   "id": "25e3e46d-b5db-448d-962a-78a617e6d4dd",
   "metadata": {},
   "outputs": [
    {
     "data": {
      "text/plain": [
       "False"
      ]
     },
     "execution_count": 16,
     "metadata": {},
     "output_type": "execute_result"
    }
   ],
   "source": [
    "num = lambda string : string.isnumeric()\n",
    "string = \"PWSkills\"\n",
    "num(string)"
   ]
  },
  {
   "cell_type": "code",
   "execution_count": 21,
   "id": "61d02409-c6d2-4c2a-86c1-db047181d046",
   "metadata": {},
   "outputs": [
    {
     "data": {
      "text/plain": [
       "[('orange', 80), ('mango', 99), ('grapes', 1000)]"
      ]
     },
     "execution_count": 21,
     "metadata": {},
     "output_type": "execute_result"
    }
   ],
   "source": [
    "l = [(\"mango\",99),(\"orange\",80), (\"grapes\", 1000)]\n",
    "\n",
    "sort = sorted(l,key = lambda x: x[1])\n",
    "sort"
   ]
  },
  {
   "cell_type": "code",
   "execution_count": 22,
   "id": "60df0d6a-1a0a-4f90-b5bb-df34aa6d9851",
   "metadata": {},
   "outputs": [
    {
     "data": {
      "text/plain": [
       "[1, 4, 9, 16, 25, 36, 49, 64, 81, 100]"
      ]
     },
     "execution_count": 22,
     "metadata": {},
     "output_type": "execute_result"
    }
   ],
   "source": [
    "[i**2 for i in range(1,11)]"
   ]
  },
  {
   "cell_type": "code",
   "execution_count": 23,
   "id": "f915ee10-fa70-4562-b4af-d23e976b4340",
   "metadata": {},
   "outputs": [
    {
     "data": {
      "text/plain": [
       "[1.0,\n",
       " 1.2599210498948732,\n",
       " 1.4422495703074083,\n",
       " 1.5874010519681994,\n",
       " 1.7099759466766968,\n",
       " 1.8171205928321397,\n",
       " 1.912931182772389,\n",
       " 2.0,\n",
       " 2.080083823051904,\n",
       " 2.154434690031884]"
      ]
     },
     "execution_count": 23,
     "metadata": {},
     "output_type": "execute_result"
    }
   ],
   "source": [
    "[i**(1/3) for i in range(1,11)]"
   ]
  },
  {
   "cell_type": "code",
   "execution_count": 25,
   "id": "fa8fb834-4155-4a03-838b-8291ec980d87",
   "metadata": {},
   "outputs": [
    {
     "data": {
      "text/plain": [
       "False"
      ]
     },
     "execution_count": 25,
     "metadata": {},
     "output_type": "execute_result"
    }
   ],
   "source": [
    "even = lambda num : True if num%2==0 else False\n",
    "n = 23\n",
    "even(n)"
   ]
  },
  {
   "cell_type": "code",
   "execution_count": 26,
   "id": "cb708dbc-32f8-499c-aa5e-f6d037d65393",
   "metadata": {},
   "outputs": [
    {
     "data": {
      "text/plain": [
       "[1, 3, 5, 7, 9]"
      ]
     },
     "execution_count": 26,
     "metadata": {},
     "output_type": "execute_result"
    }
   ],
   "source": [
    "l = [1,2,3,4,5,6,7,8,9,10]\n",
    "\n",
    "list(filter(lambda x: x%2!=0,l))"
   ]
  },
  {
   "cell_type": "code",
   "execution_count": 28,
   "id": "8c3603be-7cb0-477e-8bee-8ecb9af8f948",
   "metadata": {},
   "outputs": [
    {
     "name": "stdout",
     "output_type": "stream",
     "text": [
      "[1, 2, 3, 4, 5, 6, 0]\n",
      "[-1, -2, -3, -4, -5]\n"
     ]
    }
   ],
   "source": [
    "l = [1,2,3,4,5,6,-1,-2,-3,-4,-5,0]\n",
    "pos = list(filter(lambda x:x>=0,l))\n",
    "neg = list(filter(lambda x:x<0,l))\n",
    "print(pos)\n",
    "print(neg)"
   ]
  }
 ],
 "metadata": {
  "kernelspec": {
   "display_name": "Python 3 (ipykernel)",
   "language": "python",
   "name": "python3"
  },
  "language_info": {
   "codemirror_mode": {
    "name": "ipython",
    "version": 3
   },
   "file_extension": ".py",
   "mimetype": "text/x-python",
   "name": "python",
   "nbconvert_exporter": "python",
   "pygments_lexer": "ipython3",
   "version": "3.10.8"
  }
 },
 "nbformat": 4,
 "nbformat_minor": 5
}
