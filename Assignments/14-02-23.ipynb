{
 "cells": [
  {
   "cell_type": "markdown",
   "id": "1e687639-b087-40d9-9031-ddd6e5bbd927",
   "metadata": {},
   "source": [
    "# 14 February 2023"
   ]
  },
  {
   "cell_type": "markdown",
   "id": "80275293-9914-42ab-8f62-78557dea9896",
   "metadata": {
    "tags": []
   },
   "source": [
    "## Q1"
   ]
  },
  {
   "cell_type": "markdown",
   "id": "95f1c63f-746d-439e-af46-1bc14e411fc1",
   "metadata": {},
   "source": [
    "Multithreading in Python is a process of running multiple threads in a program simultaneously. A thread is an independent sequence of instructions within a program that can be executed concurrently with other threads.\n",
    "\n",
    "Multithreading is used in Python to improve the performance of programs by making them more efficient and reducing the response time of the program. By using threads, different parts of the program can be executed simultaneously, thereby utilizing the CPU more effectively.\n",
    "\n",
    "The threading module is used to handle threads in Python. This module provides a simple way to create and manage threads in a program. The Thread class is the main class in this module, which is used to create a new thread in a program. "
   ]
  },
  {
   "cell_type": "markdown",
   "id": "d1e648f7-a7ac-4489-a753-5eb7cccc898c",
   "metadata": {
    "tags": []
   },
   "source": [
    "## Q2"
   ]
  },
  {
   "cell_type": "markdown",
   "id": "4496fb3b-6256-4658-aa32-d29c182e4c9b",
   "metadata": {
    "tags": []
   },
   "source": [
    "The threading module in Python is used to manage and control threads. It allows us to execute multiple threads within a single program, enabling us to run concurrent operations and take advantage of multiple CPUs or cores.\n",
    "\n",
    "1. activeCount(): This function returns the number of thread objects that are active in the current Python interpreter. This includes the main thread and any threads that have been created using the threading module.\n",
    "\n",
    "2. currentThread(): This function returns a reference to the current thread object. This is useful when we need to identify the current thread for logging or debugging purposes.\n",
    "\n",
    "3. enumerate(): This function returns a list of all active Thread objects in the current interpreter. The list includes the main thread and all other threads that have been started with the threading module."
   ]
  },
  {
   "cell_type": "markdown",
   "id": "68db4289-1343-49fa-961a-d7885eef364e",
   "metadata": {},
   "source": [
    "## Q3"
   ]
  },
  {
   "cell_type": "markdown",
   "id": "25bdadef-4b7a-430c-9f9e-806001b2a75f",
   "metadata": {},
   "source": [
    "run(): This method is executed when a thread starts running. It is called implicitly when the start() method is called on a thread object.\n",
    "\n",
    "start(): This method starts a thread by calling the run() method. When this method is called, a new thread is created and it starts running in parallel with the main thread.\n",
    "\n",
    "join(): This method is used to wait for a thread to finish its execution. When this method is called on a thread object, the calling thread is blocked until the thread whose join() method is called completes its execution.\n",
    "\n",
    "isAlive(): This method is used to check whether a thread is still running or has completed its execution. It returns True if the thread is still running and False if the thread has completed its execution."
   ]
  },
  {
   "cell_type": "markdown",
   "id": "4998568c-7ae5-4954-a10e-756cc937636d",
   "metadata": {},
   "source": [
    "## Q4"
   ]
  },
  {
   "cell_type": "code",
   "execution_count": 2,
   "id": "f7ce87fe-6f13-4f04-acb1-0589314874d6",
   "metadata": {},
   "outputs": [
    {
     "name": "stdout",
     "output_type": "stream",
     "text": [
      "0 squared is 0\n",
      "1 squared is 1\n",
      "2 squared is 4\n",
      "3 squared is 9\n",
      "4 squared is 16\n",
      "5 squared is 25\n",
      "6 squared is 36\n",
      "7 squared is 49\n",
      "8 squared is 64\n",
      "9 squared is 81\n",
      "0 cubed is 0\n",
      "1 cubed is 1\n",
      "2 cubed is 8\n",
      "3 cubed is 27\n",
      "4 cubed is 64\n",
      "5 cubed is 125\n",
      "6 cubed is 216\n",
      "7 cubed is 343\n",
      "8 cubed is 512\n",
      "9 cubed is 729\n"
     ]
    }
   ],
   "source": [
    "import threading\n",
    "\n",
    "def print_squares(i):\n",
    "    print(f\"{i} squared is {i*i}\")\n",
    "\n",
    "def print_cubes(i):\n",
    "    print(f\"{i} cubed is {i*i*i}\")\n",
    "\n",
    "t1 = [threading.Thread(target=print_squares, args=(i,)) for i in range(10)]\n",
    "t2 = [threading.Thread(target=print_cubes, args=(i,)) for i in range(10)]\n",
    "\n",
    "for i in t1:\n",
    "    i.start()\n",
    "for j in t2:\n",
    "    j.start()"
   ]
  },
  {
   "cell_type": "markdown",
   "id": "a9117570-566f-4e5e-84cb-0a5786b3367e",
   "metadata": {},
   "source": [
    "## Q5"
   ]
  },
  {
   "cell_type": "markdown",
   "id": "5f5e7548-2a7b-4de5-b8d5-62a7c365479a",
   "metadata": {},
   "source": [
    "Advantages of Multithreading:\n",
    "\n",
    "1. Faster Execution: Multithreading can help in faster execution of the program as multiple threads execute simultaneously.\n",
    "\n",
    "2. Better Resource Utilization: Multithreading can make better use of resources like CPU and memory by running multiple threads concurrently.\n",
    "\n",
    "3. Responsive User Interface: Multithreading can make user interfaces more responsive as the main thread can handle user interactions while other threads perform background tasks.\n",
    "\n",
    "4. Parallel Processing: Multithreading can enable parallel processing of large datasets, which can significantly improve performance.\n",
    "\n",
    "5. Improved Modularity: Multithreading can improve modularity and code organization by separating different tasks into different threads."
   ]
  },
  {
   "cell_type": "markdown",
   "id": "e92bab36-d8db-4d4a-b7a5-225deb502968",
   "metadata": {},
   "source": [
    "Disadvantages of Multithreading:\n",
    "\n",
    "1. Complexity: Multithreading can make the code more complex and difficult to debug due to the potential for race conditions and other synchronization issues.\n",
    "\n",
    "2. Resource Overhead: Multithreading can have resource overhead due to the need for synchronization and communication between threads.\n",
    "\n",
    "3. Scalability Issues: Multithreading may not scale well for very large or complex programs, as the complexity of managing multiple threads can become unwieldy.\n",
    "\n",
    "4. Deadlocks: Multithreading can lead to deadlocks, where multiple threads are waiting for each other to complete a task, resulting in a deadlock situation.\n",
    "\n",
    "5. Security Issues: Multithreading can create security issues in programs that deal with sensitive data, as concurrent access to data can lead to data corruption or other security breaches."
   ]
  },
  {
   "cell_type": "markdown",
   "id": "6e92f837-3d26-44bb-90bb-6eeffa1b9163",
   "metadata": {},
   "source": [
    "## Q6"
   ]
  },
  {
   "cell_type": "markdown",
   "id": "d8910547-9f08-42ac-aeec-6fcd3e74945e",
   "metadata": {},
   "source": [
    "Some of the best practices for exception handling in python are :\n",
    "\n",
    "1. Always use specific exceptions\n",
    "2. Always print/log a proper message\n",
    "3. Always try to log your error\n",
    "4. Always avoid writing multiple exception handling \n",
    "5. Always document all the errors\n",
    "6. Always cleanup all the resources"
   ]
  }
 ],
 "metadata": {
  "kernelspec": {
   "display_name": "Python 3 (ipykernel)",
   "language": "python",
   "name": "python3"
  },
  "language_info": {
   "codemirror_mode": {
    "name": "ipython",
    "version": 3
   },
   "file_extension": ".py",
   "mimetype": "text/x-python",
   "name": "python",
   "nbconvert_exporter": "python",
   "pygments_lexer": "ipython3",
   "version": "3.10.8"
  }
 },
 "nbformat": 4,
 "nbformat_minor": 5
}
