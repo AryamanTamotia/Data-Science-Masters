{
 "cells": [
  {
   "cell_type": "markdown",
   "id": "76652f84-140b-4299-8b5c-59d9ede90d4d",
   "metadata": {},
   "source": [
    "# 08 February 2023"
   ]
  },
  {
   "cell_type": "markdown",
   "id": "c9658869-f280-4590-819b-b7af23f89e8e",
   "metadata": {
    "tags": []
   },
   "source": [
    "## Q1"
   ]
  },
  {
   "cell_type": "markdown",
   "id": "4f953882-464c-4c69-9ea1-d493094a04df",
   "metadata": {},
   "source": [
    "Abstraction in OOP is the process of hiding complex implementation details and exposing only the necessary information or functionalities to the user. It is a way of simplifying complex systems by breaking them down into smaller, more manageable parts."
   ]
  },
  {
   "cell_type": "code",
   "execution_count": 2,
   "id": "1037a365-d7c2-4fff-b5ec-27dd386b0c98",
   "metadata": {},
   "outputs": [
    {
     "name": "stdout",
     "output_type": "stream",
     "text": [
      "Rufus barks: Woof!\n",
      "Rufus runs on four legs\n",
      "Whiskers meows: Meow!\n",
      "Whiskers walks on four legs\n"
     ]
    }
   ],
   "source": [
    "from abc import ABC, abstractmethod\n",
    "\n",
    "class Animal(ABC):\n",
    "    def __init__(self, name, species, sound, age):\n",
    "        self.name = name\n",
    "        self.species = species\n",
    "        self.sound = sound\n",
    "        self.age = age\n",
    "    \n",
    "    @abstractmethod\n",
    "    def speak(self):\n",
    "        pass\n",
    "    \n",
    "    @abstractmethod\n",
    "    def move(self):\n",
    "        pass\n",
    "\n",
    "class Dog(Animal):\n",
    "    def speak(self):\n",
    "        print(f\"{self.name} barks: {self.sound}\")\n",
    "    \n",
    "    def move(self):\n",
    "        print(f\"{self.name} runs on four legs\")\n",
    "\n",
    "class Cat(Animal):\n",
    "    def speak(self):\n",
    "        print(f\"{self.name} meows: {self.sound}\")\n",
    "    \n",
    "    def move(self):\n",
    "        print(f\"{self.name} walks on four legs\")\n",
    "\n",
    "my_dog = Dog(\"Rufus\", \"Dog\", \"Woof!\", 3)\n",
    "my_cat = Cat(\"Whiskers\", \"Cat\", \"Meow!\", 2)\n",
    "\n",
    "my_dog.speak()\n",
    "my_dog.move() \n",
    "\n",
    "my_cat.speak()\n",
    "my_cat.move()  "
   ]
  },
  {
   "cell_type": "markdown",
   "id": "202942f1-b7f1-4ee2-865c-12c6217ccf0a",
   "metadata": {
    "tags": []
   },
   "source": [
    "## Q2"
   ]
  },
  {
   "cell_type": "markdown",
   "id": "976e8d9c-f3d1-4ee4-a31d-91ab46739d61",
   "metadata": {},
   "source": [
    "Abstraction is the process of hiding complex implementation details and exposing only the essential features of an object or system. It allows us to focus on what an object does rather than how it does it. Abstraction can be achieved through abstract classes or interfaces."
   ]
  },
  {
   "cell_type": "code",
   "execution_count": 3,
   "id": "6e266ac1-d4e3-471b-a478-5d11cc6f322e",
   "metadata": {},
   "outputs": [
    {
     "name": "stdout",
     "output_type": "stream",
     "text": [
      "Dog runs on four legs.\n",
      "Bird flies with wings.\n"
     ]
    }
   ],
   "source": [
    "from abc import ABC, abstractmethod\n",
    "\n",
    "class Animal(ABC):\n",
    "    @abstractmethod\n",
    "    def move(self):\n",
    "        pass\n",
    "\n",
    "class Dog(Animal):\n",
    "    def move(self):\n",
    "        print(\"Dog runs on four legs.\")\n",
    "\n",
    "class Bird(Animal):\n",
    "    def move(self):\n",
    "        print(\"Bird flies with wings.\")\n",
    "\n",
    "dog1 = Dog()\n",
    "bird1 = Bird()\n",
    "\n",
    "dog1.move()\n",
    "bird1.move()"
   ]
  },
  {
   "cell_type": "markdown",
   "id": "ea20b9c1-9791-43a8-b080-9c64cc69ecd8",
   "metadata": {},
   "source": [
    "Encapsulation is the process of hiding data and implementation details within a class, and exposing only a public interface for interacting with that class. It protects the internal state of an object from being modified by external code."
   ]
  },
  {
   "cell_type": "code",
   "execution_count": 4,
   "id": "15333871-b6db-4e1f-a9ce-d703bbe0e974",
   "metadata": {},
   "outputs": [
    {
     "name": "stdout",
     "output_type": "stream",
     "text": [
      "1300\n"
     ]
    }
   ],
   "source": [
    "class BankAccount:\n",
    "    def __init__(self, balance):\n",
    "        self.__balance = balance\n",
    "    \n",
    "    def deposit(self, amount):\n",
    "        self.__balance += amount\n",
    "    \n",
    "    def withdraw(self, amount):\n",
    "        if amount <= self.__balance:\n",
    "            self.__balance -= amount\n",
    "        else:\n",
    "            print(\"Insufficient balance.\")\n",
    "    \n",
    "    def get_balance(self):\n",
    "        return self.__balance\n",
    "\n",
    "account = BankAccount(1000)\n",
    "account.deposit(500)\n",
    "account.withdraw(200)\n",
    "print(account.get_balance())"
   ]
  },
  {
   "cell_type": "markdown",
   "id": "75f4f09c-8c4d-4944-bff7-923528dacfe7",
   "metadata": {},
   "source": [
    "## Q3"
   ]
  },
  {
   "cell_type": "markdown",
   "id": "758c3943-24e8-4340-bebc-b93ac6c3c8eb",
   "metadata": {},
   "source": [
    "The abc module in Python stands for \"Abstract Base Classes\". It is used to create abstract classes in Python, which cannot be instantiated but can be subclassed by other classes. Abstract classes are used to define a blueprint for a group of subclasses that have some common methods and properties."
   ]
  },
  {
   "cell_type": "markdown",
   "id": "c668bfa7-e6be-40bb-a2af-fce45c3a8812",
   "metadata": {},
   "source": [
    "## Q4"
   ]
  },
  {
   "cell_type": "markdown",
   "id": "79a6bb17-e5b3-4448-b14d-e2e131b06aea",
   "metadata": {},
   "source": [
    "Data abstraction can be achieved in Python by defining classes and using the access modifiers such as private and protected variables. Private variables are those that are only accessible within the class, whereas protected variables can be accessed within the class and its subclasses."
   ]
  },
  {
   "cell_type": "markdown",
   "id": "244b5894-4717-4fce-a45c-ffb0a2843ed3",
   "metadata": {},
   "source": [
    "## Q5"
   ]
  },
  {
   "cell_type": "markdown",
   "id": "67220ee5-d9ba-4cda-a5fc-77ecd71b65a2",
   "metadata": {},
   "source": [
    "No, we cannot create an instance of an abstract class. Abstract classes are designed to be incomplete and are meant to be extended by subclasses that provide concrete implementations of the abstract methods.\n",
    "\n",
    "To use an abstract class, we must first create a subclass that extends the abstract class and provide implementations for all of the abstract methods defined in the parent abstract class. Once we have created an instance of the subclass, we can use its methods just like we would with any other class instance."
   ]
  }
 ],
 "metadata": {
  "kernelspec": {
   "display_name": "Python 3 (ipykernel)",
   "language": "python",
   "name": "python3"
  },
  "language_info": {
   "codemirror_mode": {
    "name": "ipython",
    "version": 3
   },
   "file_extension": ".py",
   "mimetype": "text/x-python",
   "name": "python",
   "nbconvert_exporter": "python",
   "pygments_lexer": "ipython3",
   "version": "3.10.8"
  }
 },
 "nbformat": 4,
 "nbformat_minor": 5
}
