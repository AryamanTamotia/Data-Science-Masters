{
 "cells": [
  {
   "cell_type": "markdown",
   "id": "89a85ec9-2217-4057-af35-2e108186c866",
   "metadata": {},
   "source": [
    "# 23 February 2023"
   ]
  },
  {
   "cell_type": "code",
   "execution_count": 4,
   "id": "5c08057f-3078-47aa-adce-4bd703fd8e4d",
   "metadata": {},
   "outputs": [],
   "source": [
    "import pandas as pd"
   ]
  },
  {
   "cell_type": "markdown",
   "id": "e0464796-d1de-4896-a04f-2b3bf1a9b80e",
   "metadata": {
    "tags": []
   },
   "source": [
    "## Q1"
   ]
  },
  {
   "cell_type": "code",
   "execution_count": 10,
   "id": "3484b2a6-8db4-4ca4-aeee-922b70e81cea",
   "metadata": {},
   "outputs": [
    {
     "data": {
      "text/plain": [
       "0     4\n",
       "1     8\n",
       "2    15\n",
       "3    16\n",
       "4    23\n",
       "5    42\n",
       "dtype: int64"
      ]
     },
     "execution_count": 10,
     "metadata": {},
     "output_type": "execute_result"
    }
   ],
   "source": [
    "series1 = pd.Series([4, 8, 15, 16, 23, 42])\n",
    "series1"
   ]
  },
  {
   "cell_type": "markdown",
   "id": "89a59c83-dd36-4cf0-aec1-89ef832c3662",
   "metadata": {
    "tags": []
   },
   "source": [
    "## Q2"
   ]
  },
  {
   "cell_type": "code",
   "execution_count": 9,
   "id": "a4153916-7b61-481f-a695-6a79ab814cc1",
   "metadata": {},
   "outputs": [
    {
     "data": {
      "text/plain": [
       "0     1\n",
       "1     2\n",
       "2     3\n",
       "3     4\n",
       "4     5\n",
       "5     6\n",
       "6     7\n",
       "7     8\n",
       "8     9\n",
       "9    10\n",
       "dtype: int64"
      ]
     },
     "execution_count": 9,
     "metadata": {},
     "output_type": "execute_result"
    }
   ],
   "source": [
    "ls = [1,2,3,4,5,6,7,8,9,10]\n",
    "series2 = pd.Series(ls)\n",
    "series2"
   ]
  },
  {
   "cell_type": "markdown",
   "id": "8122a155-2389-430c-b7d1-df6444635f2d",
   "metadata": {},
   "source": [
    "## Q3"
   ]
  },
  {
   "cell_type": "code",
   "execution_count": 17,
   "id": "218b328a-de7e-47ad-ab75-bcbb8304e40a",
   "metadata": {},
   "outputs": [
    {
     "data": {
      "text/html": [
       "<div>\n",
       "<style scoped>\n",
       "    .dataframe tbody tr th:only-of-type {\n",
       "        vertical-align: middle;\n",
       "    }\n",
       "\n",
       "    .dataframe tbody tr th {\n",
       "        vertical-align: top;\n",
       "    }\n",
       "\n",
       "    .dataframe thead th {\n",
       "        text-align: right;\n",
       "    }\n",
       "</style>\n",
       "<table border=\"1\" class=\"dataframe\">\n",
       "  <thead>\n",
       "    <tr style=\"text-align: right;\">\n",
       "      <th></th>\n",
       "      <th>Name</th>\n",
       "      <th>Age</th>\n",
       "      <th>Gender</th>\n",
       "    </tr>\n",
       "  </thead>\n",
       "  <tbody>\n",
       "    <tr>\n",
       "      <th>0</th>\n",
       "      <td>Alice</td>\n",
       "      <td>25</td>\n",
       "      <td>Female</td>\n",
       "    </tr>\n",
       "    <tr>\n",
       "      <th>1</th>\n",
       "      <td>Bob</td>\n",
       "      <td>30</td>\n",
       "      <td>Male</td>\n",
       "    </tr>\n",
       "    <tr>\n",
       "      <th>2</th>\n",
       "      <td>Claire</td>\n",
       "      <td>27</td>\n",
       "      <td>Female</td>\n",
       "    </tr>\n",
       "  </tbody>\n",
       "</table>\n",
       "</div>"
      ],
      "text/plain": [
       "     Name  Age  Gender\n",
       "0   Alice   25  Female\n",
       "1     Bob   30    Male\n",
       "2  Claire   27  Female"
      ]
     },
     "execution_count": 17,
     "metadata": {},
     "output_type": "execute_result"
    }
   ],
   "source": [
    "dic = {\"Name\" : ['Alice','Bob','Claire'],\n",
    "       \"Age\" : [25,30,27],\n",
    "       \"Gender\" : ['Female','Male','Female']}\n",
    "df1 = pd.DataFrame(dic)\n",
    "df1"
   ]
  },
  {
   "cell_type": "markdown",
   "id": "42498b7c-db86-4e69-b21b-4f0fe17d0d50",
   "metadata": {},
   "source": [
    "## Q4"
   ]
  },
  {
   "cell_type": "markdown",
   "id": "71eba3c0-0aba-4413-be9a-2b83ed38db0a",
   "metadata": {},
   "source": [
    "In pandas, a DataFrame is a two-dimensional labeled data structure with columns of potentially different types. It is similar to a spreadsheet or SQL table. On the other hand, a Series is a one-dimensional labeled array that can contain any data type."
   ]
  },
  {
   "cell_type": "code",
   "execution_count": 19,
   "id": "b2890e6a-bc40-4e3a-9abd-6fb31687e169",
   "metadata": {},
   "outputs": [
    {
     "data": {
      "text/html": [
       "<div>\n",
       "<style scoped>\n",
       "    .dataframe tbody tr th:only-of-type {\n",
       "        vertical-align: middle;\n",
       "    }\n",
       "\n",
       "    .dataframe tbody tr th {\n",
       "        vertical-align: top;\n",
       "    }\n",
       "\n",
       "    .dataframe thead th {\n",
       "        text-align: right;\n",
       "    }\n",
       "</style>\n",
       "<table border=\"1\" class=\"dataframe\">\n",
       "  <thead>\n",
       "    <tr style=\"text-align: right;\">\n",
       "      <th></th>\n",
       "      <th>Name</th>\n",
       "      <th>Age</th>\n",
       "      <th>Country</th>\n",
       "    </tr>\n",
       "  </thead>\n",
       "  <tbody>\n",
       "    <tr>\n",
       "      <th>0</th>\n",
       "      <td>Alice</td>\n",
       "      <td>25</td>\n",
       "      <td>USA</td>\n",
       "    </tr>\n",
       "    <tr>\n",
       "      <th>1</th>\n",
       "      <td>Bob</td>\n",
       "      <td>32</td>\n",
       "      <td>Canada</td>\n",
       "    </tr>\n",
       "    <tr>\n",
       "      <th>2</th>\n",
       "      <td>Charlie</td>\n",
       "      <td>18</td>\n",
       "      <td>France</td>\n",
       "    </tr>\n",
       "    <tr>\n",
       "      <th>3</th>\n",
       "      <td>David</td>\n",
       "      <td>47</td>\n",
       "      <td>UK</td>\n",
       "    </tr>\n",
       "  </tbody>\n",
       "</table>\n",
       "</div>"
      ],
      "text/plain": [
       "      Name  Age Country\n",
       "0    Alice   25     USA\n",
       "1      Bob   32  Canada\n",
       "2  Charlie   18  France\n",
       "3    David   47      UK"
      ]
     },
     "execution_count": 19,
     "metadata": {},
     "output_type": "execute_result"
    }
   ],
   "source": [
    "data = {'Name': ['Alice', 'Bob', 'Charlie', 'David'],\n",
    "        'Age': [25, 32, 18, 47],\n",
    "        'Country': ['USA', 'Canada', 'France', 'UK']}\n",
    "df2 = pd.DataFrame(data)\n",
    "df2"
   ]
  },
  {
   "cell_type": "code",
   "execution_count": 18,
   "id": "cf066188-04df-4403-b93f-f6b184afa42a",
   "metadata": {},
   "outputs": [
    {
     "data": {
      "text/plain": [
       "0     1\n",
       "1    11\n",
       "2    21\n",
       "3    31\n",
       "4    41\n",
       "5    51\n",
       "dtype: int64"
      ]
     },
     "execution_count": 18,
     "metadata": {},
     "output_type": "execute_result"
    }
   ],
   "source": [
    "data = [1,11, 21, 31, 41, 51]\n",
    "series3 = pd.Series(data)\n",
    "series3"
   ]
  },
  {
   "cell_type": "markdown",
   "id": "fa85bed0-8569-4104-ac67-2ee81656fc60",
   "metadata": {},
   "source": [
    "## Q5"
   ]
  },
  {
   "cell_type": "markdown",
   "id": "367cae7c-54d4-4127-854f-f6c144f78705",
   "metadata": {},
   "source": [
    "1. head() - This function is used to display the first few rows of the DataFrame. It can be used to get an overview of the data and check if it has been loaded correctly. For example, df.head() will return the first five rows of the DataFrame df.\n",
    "\n",
    "2. describe() - This function provides a statistical summary of the DataFrame, including count, mean, standard deviation, minimum, and maximum values for each column. It can be useful to get an idea of the distribution of the data. For example, df.describe() will return the statistical summary of the DataFrame df.\n",
    "\n",
    "3. groupby() - This function is used to group data by one or more columns and apply a function to each group. It can be useful to summarize data based on certain criteria. For example, df.groupby('category')['sales'].sum() will group the DataFrame df by the 'category' column and sum the 'sales' column for each group.\n",
    "\n",
    "4. sort_values() - This function is used to sort the DataFrame by one or more columns. It can be useful to order the data in a meaningful way. For example, df.sort_values('date') will sort the DataFrame df by the 'date' column in ascending order.\n",
    "\n",
    "5. drop() - This function is used to remove one or more columns or rows from the DataFrame. It can be useful to eliminate unnecessary data. For example, df.drop(['column1', 'column2'], axis=1) will remove the 'column1' and 'column2' columns from the DataFrame df.\n",
    "\n",
    "6. fillna() - This function is used to fill missing values in the DataFrame with a specified value or method. It can be useful to handle missing data. For example, df.fillna(0) will replace all missing values in the DataFrame df with 0."
   ]
  },
  {
   "cell_type": "markdown",
   "id": "cd4549dc-ec33-4381-9d11-70091ee3345e",
   "metadata": {},
   "source": [
    "## Q6"
   ]
  },
  {
   "cell_type": "markdown",
   "id": "6877617f-5c7c-4410-8918-9f9b6674ff64",
   "metadata": {},
   "source": [
    "Series and DataFrame are mutable in nature, whereas Panel is immutable."
   ]
  },
  {
   "cell_type": "markdown",
   "id": "8ebf9e20-e669-4b9e-a17a-8bae2cd9ca4d",
   "metadata": {},
   "source": [
    "## Q7"
   ]
  },
  {
   "cell_type": "markdown",
   "id": "52a0f08d-752a-41c7-acae-710b7d9ef568",
   "metadata": {},
   "source": [
    "To create a DataFrame using multiple Series in pandas, we can use the pd.concat() function. "
   ]
  },
  {
   "cell_type": "code",
   "execution_count": 22,
   "id": "114533d0-149f-494d-9987-5e94f552e4d4",
   "metadata": {},
   "outputs": [
    {
     "data": {
      "text/html": [
       "<div>\n",
       "<style scoped>\n",
       "    .dataframe tbody tr th:only-of-type {\n",
       "        vertical-align: middle;\n",
       "    }\n",
       "\n",
       "    .dataframe tbody tr th {\n",
       "        vertical-align: top;\n",
       "    }\n",
       "\n",
       "    .dataframe thead th {\n",
       "        text-align: right;\n",
       "    }\n",
       "</style>\n",
       "<table border=\"1\" class=\"dataframe\">\n",
       "  <thead>\n",
       "    <tr style=\"text-align: right;\">\n",
       "      <th></th>\n",
       "      <th>0</th>\n",
       "      <th>1</th>\n",
       "    </tr>\n",
       "  </thead>\n",
       "  <tbody>\n",
       "    <tr>\n",
       "      <th>0</th>\n",
       "      <td>10</td>\n",
       "      <td>50</td>\n",
       "    </tr>\n",
       "    <tr>\n",
       "      <th>1</th>\n",
       "      <td>20</td>\n",
       "      <td>60</td>\n",
       "    </tr>\n",
       "    <tr>\n",
       "      <th>2</th>\n",
       "      <td>30</td>\n",
       "      <td>70</td>\n",
       "    </tr>\n",
       "    <tr>\n",
       "      <th>3</th>\n",
       "      <td>40</td>\n",
       "      <td>80</td>\n",
       "    </tr>\n",
       "  </tbody>\n",
       "</table>\n",
       "</div>"
      ],
      "text/plain": [
       "    0   1\n",
       "0  10  50\n",
       "1  20  60\n",
       "2  30  70\n",
       "3  40  80"
      ]
     },
     "execution_count": 22,
     "metadata": {},
     "output_type": "execute_result"
    }
   ],
   "source": [
    "series1 = pd.Series([10, 20, 30, 40])\n",
    "series2 = pd.Series([50, 60, 70, 80])\n",
    "df3 = pd.concat([series1, series2], axis=1)\n",
    "df3"
   ]
  }
 ],
 "metadata": {
  "kernelspec": {
   "display_name": "Python 3 (ipykernel)",
   "language": "python",
   "name": "python3"
  },
  "language_info": {
   "codemirror_mode": {
    "name": "ipython",
    "version": 3
   },
   "file_extension": ".py",
   "mimetype": "text/x-python",
   "name": "python",
   "nbconvert_exporter": "python",
   "pygments_lexer": "ipython3",
   "version": "3.10.8"
  }
 },
 "nbformat": 4,
 "nbformat_minor": 5
}
