{
 "cells": [
  {
   "cell_type": "markdown",
   "id": "e3e19e93-336b-4f1f-a539-e9d2b94a1f05",
   "metadata": {},
   "source": [
    "# 29 January 2023"
   ]
  },
  {
   "cell_type": "markdown",
   "id": "bf67b401-c61a-4d5e-8375-57dc4f085ab5",
   "metadata": {
    "tags": []
   },
   "source": [
    "## Q1"
   ]
  },
  {
   "cell_type": "markdown",
   "id": "4d877fc7-aa01-440a-bb6e-3d34341914f4",
   "metadata": {},
   "source": [
    " Python programming language was created by Guido van Rossum in the late 1980s and was first released on February 20, 1991."
   ]
  },
  {
   "cell_type": "markdown",
   "id": "d04d5e53-f135-4463-ac0f-279050fec631",
   "metadata": {
    "tags": []
   },
   "source": [
    "## Q2"
   ]
  },
  {
   "cell_type": "markdown",
   "id": "f27a188e-51ef-463c-a502-f10e112749fe",
   "metadata": {},
   "source": [
    "Python supports multiple programming paradigms, including: Procedural programming, Object-oriented programming (OOP), Functional programming, Aspect-oriented programming (AOP). Python also supports other programming styles such as declarative programming, imperative programming, and event-driven programming, making it a highly versatile language that can be used in a variety of applications."
   ]
  },
  {
   "cell_type": "markdown",
   "id": "59948c0e-a534-4469-ace8-c556b414442f",
   "metadata": {},
   "source": [
    "## Q3"
   ]
  },
  {
   "cell_type": "markdown",
   "id": "96e2bb14-7592-4f4e-880b-d95534791743",
   "metadata": {},
   "source": [
    "Yes, Python is a case-sensitive language when it comes to identifiers. This means that variables, functions, and other identifiers in Python must have the same capitalization every time they are used"
   ]
  },
  {
   "cell_type": "markdown",
   "id": "fa1b44e9-ad02-4d7a-9705-a33094853568",
   "metadata": {},
   "source": [
    "## Q4"
   ]
  },
  {
   "cell_type": "markdown",
   "id": "b8764115-14ce-4e8d-bcc1-61bf76d084e2",
   "metadata": {},
   "source": [
    "The correct extension for a Python file is \".py\". However, the extension for Jupyter Notebooks is \".ipynb\"."
   ]
  },
  {
   "cell_type": "markdown",
   "id": "beea4dfa-8769-4196-83dc-b53cf28d09b3",
   "metadata": {},
   "source": [
    "## Q5"
   ]
  },
  {
   "cell_type": "markdown",
   "id": "868b6fd1-9aa9-4c0b-9a25-03f1e926636c",
   "metadata": {},
   "source": [
    "Python code is interpreted, not compiled. The code is not compiled into machine code like languages such as C or Java. Instead, the Python interpreter reads the code line by line, interprets the code, and executes it."
   ]
  },
  {
   "cell_type": "markdown",
   "id": "ebc58425-0a53-48ea-ac12-b79309e57bcb",
   "metadata": {},
   "source": [
    "## Q6"
   ]
  },
  {
   "cell_type": "markdown",
   "id": "7597e27f-c250-4bc4-9b24-0ecee4625085",
   "metadata": {},
   "source": [
    "There are many like Function Blocks, Conditional Blocks, Loop Blocks, Exception Blocks etc."
   ]
  },
  {
   "cell_type": "markdown",
   "id": "42948868-c020-4ee9-a37d-c6506375349f",
   "metadata": {},
   "source": [
    "## Q7"
   ]
  },
  {
   "cell_type": "markdown",
   "id": "495606c2-890f-44d8-b0fb-5402a64df61c",
   "metadata": {},
   "source": [
    "'#' is used to give single line comments in Python."
   ]
  },
  {
   "cell_type": "markdown",
   "id": "9c0a5aa1-bf8a-46f8-b727-07b2aff33a8a",
   "metadata": {},
   "source": [
    "## Q8"
   ]
  },
  {
   "cell_type": "markdown",
   "id": "2e96a6ea-4002-4dd5-824d-83fdbaeec0ed",
   "metadata": {},
   "source": [
    "There are several ways to find the version of Python that you are currently working on:\n",
    "\n",
    "Using the command line interface: Open the command prompt and type \"python --version\". This will display the version of Python that is currently installed on your system.\n",
    "\n",
    "Using the platform module: Import the platform module and use the method platform.python_version(). This will return a string representing the version of Python that is currently running.\n",
    "\n",
    "Using the sys module: Import the sys module and use the attribute sys.version. This will return a string representing the version of Python that is currently running, as well as additional information such as the build date and time."
   ]
  },
  {
   "cell_type": "markdown",
   "id": "d0f80862-304a-4d6a-a56e-cb94336b9557",
   "metadata": {},
   "source": [
    "## Q9"
   ]
  },
  {
   "cell_type": "markdown",
   "id": "7fabf7db-8794-4247-90d2-f45eb85f8b10",
   "metadata": {},
   "source": [
    "lambda expressions or lambda functions."
   ]
  },
  {
   "cell_type": "markdown",
   "id": "2497b2ad-a680-4262-87a5-88943b69ec3d",
   "metadata": {},
   "source": [
    "## Q10"
   ]
  },
  {
   "cell_type": "markdown",
   "id": "ac62d135-dc06-4e65-9fba-5c787962e7a3",
   "metadata": {},
   "source": [
    "PIP stands for \"Pip Installs Packages\" or \"Pip Installs Python\"."
   ]
  },
  {
   "cell_type": "markdown",
   "id": "e0411d0a-65ea-4384-8bd1-96bc5472b15e",
   "metadata": {},
   "source": [
    "## Q11"
   ]
  },
  {
   "cell_type": "markdown",
   "id": "53c772f2-1b7b-44f9-a648-a8b8209175d2",
   "metadata": {},
   "source": [
    "Some built-in functions in Python are - print(), len(), type(), range(), input(), int(), str(), float(), list(), dict() etc."
   ]
  },
  {
   "cell_type": "markdown",
   "id": "79c0630b-79c0-48db-9c0c-eb272526978e",
   "metadata": {},
   "source": [
    "## Q12"
   ]
  },
  {
   "cell_type": "markdown",
   "id": "ebb6c5cb-6c1e-4adf-ad90-b118de97b074",
   "metadata": {},
   "source": [
    "In Python, the maximum length of an identifier (i.e., the name of a variable, function, class, etc.) is not explicitly defined. However, according to the Python style guide (PEP 8), identifiers should not exceed 79 characters in length."
   ]
  },
  {
   "cell_type": "markdown",
   "id": "6a2561d9-fc8b-4490-adfb-c704b20a54f7",
   "metadata": {},
   "source": [
    "## Q13"
   ]
  },
  {
   "cell_type": "markdown",
   "id": "7099f29d-9b08-4c07-835a-3a3f0356e6b4",
   "metadata": {},
   "source": [
    "Python is a popular high-level programming language with a simple, easy-to-learn syntax that supports multiple programming paradigms. It is widely used in various domains, including web development, data science, and artificial intelligence, due to its versatility, large standard library, and vast community support."
   ]
  },
  {
   "cell_type": "markdown",
   "id": "7a3c5aed-4b40-4bd8-9d21-938f0fc64705",
   "metadata": {},
   "source": [
    "## Q14"
   ]
  },
  {
   "cell_type": "markdown",
   "id": "4a1b7048-705d-44f4-9446-c53e141f1ef9",
   "metadata": {},
   "source": [
    "In Python, memory management is handled automatically by a built-in mechanism called the Python Memory Manager. This mechanism uses a combination of reference counting and garbage collection to ensure that memory is efficiently allocated and deallocated."
   ]
  },
  {
   "cell_type": "markdown",
   "id": "c5911073-338d-45bf-ad87-f36602f28758",
   "metadata": {},
   "source": [
    "## Q15"
   ]
  },
  {
   "cell_type": "markdown",
   "id": "c45ba5de-42d2-4ce2-88d8-d2ba7f0ae7e1",
   "metadata": {},
   "source": [
    "I just downloaded the Anaconda Distribution and select path variables while installing."
   ]
  },
  {
   "cell_type": "markdown",
   "id": "da47c06a-8317-48bd-9a80-bab09de97355",
   "metadata": {},
   "source": [
    "## Q"
   ]
  }
 ],
 "metadata": {
  "kernelspec": {
   "display_name": "Python 3 (ipykernel)",
   "language": "python",
   "name": "python3"
  },
  "language_info": {
   "codemirror_mode": {
    "name": "ipython",
    "version": 3
   },
   "file_extension": ".py",
   "mimetype": "text/x-python",
   "name": "python",
   "nbconvert_exporter": "python",
   "pygments_lexer": "ipython3",
   "version": "3.10.8"
  }
 },
 "nbformat": 4,
 "nbformat_minor": 5
}
