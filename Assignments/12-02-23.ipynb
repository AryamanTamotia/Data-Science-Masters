{
 "cells": [
  {
   "cell_type": "markdown",
   "id": "b55883d6-ad27-4d54-8129-969e87fd1d8e",
   "metadata": {},
   "source": [
    "# 12 February 2023"
   ]
  },
  {
   "cell_type": "markdown",
   "id": "10298865-a8d6-4291-80b6-ee19bcf5a347",
   "metadata": {
    "tags": []
   },
   "source": [
    "## Q1"
   ]
  },
  {
   "cell_type": "markdown",
   "id": "32e741d2-1e9e-4ff6-b0d6-936e9d1e3a5c",
   "metadata": {},
   "source": [
    "In Python, an exception is an error that occurs during the execution of a program, which interrupts the normal flow of the program's instructions. When an exception occurs, the program stops executing and raises an exception object which contains information about the error such as the type of error, message, and traceback.\n",
    "\n",
    "Syntax errors, on the other hand, occur when there is a mistake in the syntax of the Python code. These errors are detected by the Python interpreter before the program is executed and they prevent the program from running at all.\n",
    "\n",
    "The main differences between exceptions and syntax errors are:\n",
    "\n",
    "1. Exceptions occur during program execution, while syntax errors occur before the program is executed.\n",
    "\n",
    "2. Exceptions can be handled with try-except blocks to gracefully recover from errors, while syntax errors must be fixed in the code before the program can be executed.\n",
    "\n",
    "3. Exceptions are caused by runtime conditions like I/O errors, network errors, or user input errors, while syntax errors are caused by mistakes in the code such as misspelled keywords or incorrect indentation."
   ]
  },
  {
   "cell_type": "markdown",
   "id": "2e0b291a-6357-4db3-bc03-4d30a1dd7a20",
   "metadata": {
    "tags": []
   },
   "source": [
    "## Q2"
   ]
  },
  {
   "cell_type": "markdown",
   "id": "59177985-9a24-49f9-9d05-d854da3f5857",
   "metadata": {},
   "source": [
    "When an exception is not handled, it results in an error message being displayed and the program terminates abruptly. This can lead to unexpected behavior and can be problematic in certain scenarios."
   ]
  },
  {
   "cell_type": "code",
   "execution_count": 1,
   "id": "0d68e3c4-12b7-4595-8083-c274d19116cc",
   "metadata": {},
   "outputs": [
    {
     "ename": "ZeroDivisionError",
     "evalue": "division by zero",
     "output_type": "error",
     "traceback": [
      "\u001b[0;31m---------------------------------------------------------------------------\u001b[0m",
      "\u001b[0;31mZeroDivisionError\u001b[0m                         Traceback (most recent call last)",
      "Cell \u001b[0;32mIn[1], line 3\u001b[0m\n\u001b[1;32m      1\u001b[0m num1 \u001b[38;5;241m=\u001b[39m \u001b[38;5;241m10\u001b[39m\n\u001b[1;32m      2\u001b[0m num2 \u001b[38;5;241m=\u001b[39m \u001b[38;5;241m0\u001b[39m\n\u001b[0;32m----> 3\u001b[0m result \u001b[38;5;241m=\u001b[39m \u001b[43mnum1\u001b[49m\u001b[43m \u001b[49m\u001b[38;5;241;43m/\u001b[39;49m\u001b[43m \u001b[49m\u001b[43mnum2\u001b[49m\n\u001b[1;32m      4\u001b[0m \u001b[38;5;28mprint\u001b[39m(result)\n",
      "\u001b[0;31mZeroDivisionError\u001b[0m: division by zero"
     ]
    }
   ],
   "source": [
    "num1 = 10\n",
    "num2 = 0\n",
    "result = num1 / num2\n",
    "print(result)"
   ]
  },
  {
   "cell_type": "markdown",
   "id": "eb1c7507-ed27-4e9f-94cd-5581292f172c",
   "metadata": {},
   "source": [
    "## Q3"
   ]
  },
  {
   "cell_type": "markdown",
   "id": "a221f7ae-16bd-4d55-84ad-84a319fcd9e4",
   "metadata": {},
   "source": [
    "In Python, the try and except statements are used to catch and handle exceptions. The try block contains the code that may raise an exception, and the except block contains the code that handles the exception if it occurs."
   ]
  },
  {
   "cell_type": "code",
   "execution_count": 2,
   "id": "a27697c8-22e3-4d07-b1e4-2b46d66cbb52",
   "metadata": {},
   "outputs": [
    {
     "name": "stdin",
     "output_type": "stream",
     "text": [
      "Enter a number:  1\n",
      "Enter another number:  0\n"
     ]
    },
    {
     "name": "stdout",
     "output_type": "stream",
     "text": [
      "Cannot divide by zero\n"
     ]
    }
   ],
   "source": [
    "try:\n",
    "    x = int(input(\"Enter a number: \"))\n",
    "    y = int(input(\"Enter another number: \"))\n",
    "    result = x / y\n",
    "    print(\"The result is:\", result)\n",
    "except ZeroDivisionError:\n",
    "    print(\"Cannot divide by zero\")\n",
    "except ValueError:\n",
    "    print(\"Invalid input. Please enter a number.\")"
   ]
  },
  {
   "cell_type": "markdown",
   "id": "6d77ada2-0303-460f-8297-09758fb2a471",
   "metadata": {},
   "source": [
    "## Q4"
   ]
  },
  {
   "cell_type": "markdown",
   "id": "eb80827b-a982-4eff-a81b-6a5d25d8b5ec",
   "metadata": {},
   "source": [
    "In Python, the try-except-else statement is used to catch and handle exceptions. The try block contains the code that may raise an exception, and the except block is used to handle the raised exception. The else block is executed if no exception is raised in the try block."
   ]
  },
  {
   "cell_type": "code",
   "execution_count": 4,
   "id": "ed6b8f90-264c-4905-b269-d49b8b15b579",
   "metadata": {},
   "outputs": [
    {
     "name": "stdin",
     "output_type": "stream",
     "text": [
      "Enter a number:  1\n"
     ]
    },
    {
     "name": "stdout",
     "output_type": "stream",
     "text": [
      "Result: 10.0\n"
     ]
    }
   ],
   "source": [
    "try:\n",
    "    num = int(input(\"Enter a number: \"))\n",
    "    result = 10 / num\n",
    "except ZeroDivisionError:\n",
    "    print(\"Error: Cannot divide by zero.\")\n",
    "else:\n",
    "    print(\"Result:\", result)"
   ]
  },
  {
   "cell_type": "markdown",
   "id": "9f5823e8-921e-48d0-bb6d-31140ddbf0ee",
   "metadata": {},
   "source": [
    "In Python, the finally block is used to execute a block of code irrespective of whether an exception is raised or not. This block of code is executed after the try and except blocks (if any) have been executed."
   ]
  },
  {
   "cell_type": "code",
   "execution_count": 5,
   "id": "c4fa8c93-b7c1-4986-bde5-8e17cdb737f9",
   "metadata": {},
   "outputs": [
    {
     "name": "stdout",
     "output_type": "stream",
     "text": [
      "Error: File not found.\n"
     ]
    },
    {
     "ename": "NameError",
     "evalue": "name 'file' is not defined",
     "output_type": "error",
     "traceback": [
      "\u001b[0;31m---------------------------------------------------------------------------\u001b[0m",
      "\u001b[0;31mNameError\u001b[0m                                 Traceback (most recent call last)",
      "Cell \u001b[0;32mIn[5], line 7\u001b[0m\n\u001b[1;32m      5\u001b[0m     \u001b[38;5;28mprint\u001b[39m(\u001b[38;5;124m\"\u001b[39m\u001b[38;5;124mError: File not found.\u001b[39m\u001b[38;5;124m\"\u001b[39m)\n\u001b[1;32m      6\u001b[0m \u001b[38;5;28;01mfinally\u001b[39;00m:\n\u001b[0;32m----> 7\u001b[0m     \u001b[43mfile\u001b[49m\u001b[38;5;241m.\u001b[39mclose()\n",
      "\u001b[0;31mNameError\u001b[0m: name 'file' is not defined"
     ]
    }
   ],
   "source": [
    "try:\n",
    "    file = open(\"example.txt\", \"r\")\n",
    "    print(file.read())\n",
    "except FileNotFoundError:\n",
    "    print(\"Error: File not found.\")\n",
    "finally:\n",
    "    file.close()"
   ]
  },
  {
   "cell_type": "markdown",
   "id": "ad578c3d-e76e-406b-a36d-7c4a88497b9a",
   "metadata": {},
   "source": [
    "In Python, the raise statement is used to raise an exception explicitly. This statement is used to handle exceptions in a custom way or to trigger exceptions manually."
   ]
  },
  {
   "cell_type": "code",
   "execution_count": 73,
   "id": "3aa4f6e0-3def-447f-af70-9c83bf62d26b",
   "metadata": {},
   "outputs": [
    {
     "name": "stdin",
     "output_type": "stream",
     "text": [
      "Enter a positive number:  -12\n"
     ]
    },
    {
     "name": "stdout",
     "output_type": "stream",
     "text": [
      "Number is negative\n"
     ]
    }
   ],
   "source": [
    "class MyError(Exception):\n",
    "    def __init__(self, message):\n",
    "        self.message = message\n",
    "\n",
    "def pos_num(a):\n",
    "    if a<0:\n",
    "        raise MyError(\"Number is negative\")\n",
    "    else:\n",
    "        print(\"Number is positive\")\n",
    "\n",
    "try:\n",
    "    a = int(input(\"Enter a positive number: \"))\n",
    "    pos_num(a)\n",
    "except MyError as e:\n",
    "    print(e)"
   ]
  },
  {
   "cell_type": "markdown",
   "id": "e6705c8c-4e88-4d26-bd35-ff176b47a8fe",
   "metadata": {},
   "source": [
    "## Q5"
   ]
  },
  {
   "cell_type": "markdown",
   "id": "fc208427-fef6-41da-8fad-d6581c853ca3",
   "metadata": {},
   "source": [
    "Custom exceptions in Python are user-defined exceptions that can be created to handle specific error conditions that are not covered by the built-in exceptions. We need custom exceptions when we want to create a specific exception type for a particular application or module, which can help us to handle errors in a more effective way."
   ]
  },
  {
   "cell_type": "code",
   "execution_count": 74,
   "id": "ed93d6a0-87a5-4dcc-b16c-423cf9b64872",
   "metadata": {},
   "outputs": [
    {
     "name": "stdin",
     "output_type": "stream",
     "text": [
      "Enter a positive number:  -12\n"
     ]
    },
    {
     "name": "stdout",
     "output_type": "stream",
     "text": [
      "Number is negative\n"
     ]
    }
   ],
   "source": [
    "class MyError(Exception):\n",
    "    def __init__(self, message):\n",
    "        self.message = message\n",
    "\n",
    "def pos_num(a):\n",
    "    if a<0:\n",
    "        raise MyError(\"Number is negative\")\n",
    "    else:\n",
    "        print(\"Number is positive\")\n",
    "\n",
    "try:\n",
    "    a = int(input(\"Enter a positive number: \"))\n",
    "    pos_num(a)\n",
    "except MyError as e:\n",
    "    print(e)"
   ]
  },
  {
   "cell_type": "markdown",
   "id": "8748265f-b235-4247-9956-e16b607ace5b",
   "metadata": {},
   "source": [
    "## Q6"
   ]
  },
  {
   "cell_type": "code",
   "execution_count": 75,
   "id": "01ebedf7-0091-443b-9b5e-904d380ebdb2",
   "metadata": {},
   "outputs": [
    {
     "name": "stdin",
     "output_type": "stream",
     "text": [
      "Enter a positive number:  1\n"
     ]
    },
    {
     "name": "stdout",
     "output_type": "stream",
     "text": [
      "Number is positive\n"
     ]
    }
   ],
   "source": [
    "class MyError(Exception):\n",
    "    def __init__(self, message):\n",
    "        self.message = message\n",
    "\n",
    "def pos_num(a):\n",
    "    if a<0:\n",
    "        raise MyError(\"Number is negative\")\n",
    "    else:\n",
    "        print(\"Number is positive\")\n",
    "\n",
    "try:\n",
    "    a = int(input(\"Enter a positive number: \"))\n",
    "    pos_num(a)\n",
    "except MyError as e:\n",
    "    print(e)"
   ]
  }
 ],
 "metadata": {
  "kernelspec": {
   "display_name": "Python 3 (ipykernel)",
   "language": "python",
   "name": "python3"
  },
  "language_info": {
   "codemirror_mode": {
    "name": "ipython",
    "version": 3
   },
   "file_extension": ".py",
   "mimetype": "text/x-python",
   "name": "python",
   "nbconvert_exporter": "python",
   "pygments_lexer": "ipython3",
   "version": "3.10.8"
  }
 },
 "nbformat": 4,
 "nbformat_minor": 5
}
