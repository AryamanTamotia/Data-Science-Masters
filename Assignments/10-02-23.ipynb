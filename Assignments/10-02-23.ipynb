{
 "cells": [
  {
   "cell_type": "markdown",
   "id": "d84053d1-af0b-4d0c-a105-84e709918296",
   "metadata": {},
   "source": [
    "# 10 February 2023"
   ]
  },
  {
   "cell_type": "markdown",
   "id": "78dce6b0-6242-43c5-bf37-0aa0514a8a41",
   "metadata": {
    "tags": []
   },
   "source": [
    "## Q1"
   ]
  },
  {
   "cell_type": "markdown",
   "id": "bc196ec6-b8eb-464e-a2fa-7a6d7297ea8e",
   "metadata": {},
   "source": [
    "The open() function is used to open a file in Python.\n",
    "\n",
    "There are several modes of file opening, including:\n",
    "\n",
    "\"r\": Read mode. The file is opened for reading only. If the file does not exist, an error is raised.\n",
    "\n",
    "\"w\": Write mode. The file is opened for writing only. If the file does not exist, it will be created. If the file already exists, the contents of the file will be truncated.\n",
    "\n",
    "\"a\": Append mode. The file is opened for writing, but any data written to the file is appended to the end of the file. If the file does not exist, it will be created.\n",
    "\n",
    "\"x\": Exclusive creation mode. The file is opened for writing, but only if the file does not already exist. If the file exists, an error is raised.\n",
    "\n",
    "\"b\": Binary mode. This mode is used for opening binary files.\n",
    "\n",
    "\"t\": Text mode. This mode is used for opening text files."
   ]
  },
  {
   "cell_type": "markdown",
   "id": "c02684e2-7789-4d86-ac54-4c994e13f8e0",
   "metadata": {
    "tags": []
   },
   "source": [
    "## Q2"
   ]
  },
  {
   "cell_type": "markdown",
   "id": "1fcb29b8-ef40-4271-8894-9019e484c743",
   "metadata": {},
   "source": [
    "In Python, the close() function is used to close a file that was opened using the open() function. It is important to close a file because it releases the system resources that were being used by the file. When a file is opened, the operating system allocates resources (such as file descriptors) to the file that enable it to be accessed. If the file is not closed properly, these resources may not be released, leading to issues such as memory leaks and the inability to access the file again.\n",
    "\n",
    "Closing a file also ensures that any pending writes to the file are flushed to disk. If a program terminates without closing a file, any unwritten data may be lost."
   ]
  },
  {
   "cell_type": "markdown",
   "id": "ace7160b-5fd2-4bae-b0c7-ab8b742afd43",
   "metadata": {},
   "source": [
    "## Q3"
   ]
  },
  {
   "cell_type": "code",
   "execution_count": 4,
   "id": "9b9b19ee-7918-46c9-bcec-9f319545aee3",
   "metadata": {},
   "outputs": [
    {
     "name": "stdout",
     "output_type": "stream",
     "text": [
      "I want to become a Data Scientist\n"
     ]
    }
   ],
   "source": [
    "f = open('test1.txt','w')\n",
    "f.write('I want to become a Data Scientist')\n",
    "f.close()\n",
    "f = open('test1.txt','r')\n",
    "print(f.read())"
   ]
  },
  {
   "cell_type": "markdown",
   "id": "28598d76-bed2-42f7-b1f7-340a4da112f2",
   "metadata": {},
   "source": [
    "## Q4"
   ]
  },
  {
   "cell_type": "code",
   "execution_count": 8,
   "id": "2fd1fc90-7f9b-46f7-86c2-69c47d0e2c23",
   "metadata": {},
   "outputs": [],
   "source": [
    "f = open('test2.txt','w')\n",
    "f.write('This is my first line.\\n')\n",
    "f.write('This is my second line.\\n')\n",
    "f.close()"
   ]
  },
  {
   "cell_type": "markdown",
   "id": "235a8727-6f14-4bb0-80fb-0bd487398ae6",
   "metadata": {},
   "source": [
    "read() method reads the entire content of the file and returns it as a single string:"
   ]
  },
  {
   "cell_type": "code",
   "execution_count": 9,
   "id": "6ab0496d-c397-4753-acd1-147ac146bb38",
   "metadata": {},
   "outputs": [
    {
     "name": "stdout",
     "output_type": "stream",
     "text": [
      "This is my first line.\n",
      "This is my second line.\n",
      "\n"
     ]
    }
   ],
   "source": [
    "file = open(\"test2.txt\", \"r\")\n",
    "content = file.read()\n",
    "file.close()\n",
    "print(content)"
   ]
  },
  {
   "cell_type": "markdown",
   "id": "105a8526-a40e-44a5-b69a-fdef1d5c1511",
   "metadata": {},
   "source": [
    "readline() method reads a single line from the file at a time:"
   ]
  },
  {
   "cell_type": "code",
   "execution_count": 10,
   "id": "705c7620-434e-473a-baf2-288facd27aaf",
   "metadata": {},
   "outputs": [
    {
     "name": "stdout",
     "output_type": "stream",
     "text": [
      "This is my first line.\n",
      "\n",
      "This is my second line.\n",
      "\n"
     ]
    }
   ],
   "source": [
    "file = open(\"test2.txt\", \"r\")\n",
    "line1 = file.readline()\n",
    "line2 = file.readline()\n",
    "file.close()\n",
    "print(line1)\n",
    "print(line2)"
   ]
  },
  {
   "cell_type": "markdown",
   "id": "3f171b02-4219-46e7-94c7-dab3210b988d",
   "metadata": {},
   "source": [
    "readlines() method reads all the lines of a file and returns them as a list of strings:"
   ]
  },
  {
   "cell_type": "code",
   "execution_count": 13,
   "id": "6fd60444-7baa-40cb-b2bf-55df98a63b02",
   "metadata": {},
   "outputs": [
    {
     "name": "stdout",
     "output_type": "stream",
     "text": [
      "This is my first line.\n",
      "\n",
      "This is my second line.\n",
      "\n"
     ]
    }
   ],
   "source": [
    "file = open(\"test2.txt\", \"r\")\n",
    "lines = file.readlines()\n",
    "file.close()\n",
    "for line in lines:\n",
    "    print(line)"
   ]
  },
  {
   "cell_type": "markdown",
   "id": "80c49301-4b57-459a-a806-7d1625570251",
   "metadata": {},
   "source": [
    "## Q5"
   ]
  },
  {
   "cell_type": "markdown",
   "id": "69b442b3-01e4-4ee2-82b5-7831d4c3b59d",
   "metadata": {},
   "source": [
    "The with statement is used with open() to automatically close the file after the block of code within the with statement is executed. This ensures that the file is properly closed and any resources associated with the file are released.\n",
    "\n",
    "The advantage of using the with statement with open() is that it simplifies the code and ensures that the file is always closed, even if an exception occurs. It eliminates the need to manually close the file and reduces the risk of resource leaks."
   ]
  },
  {
   "cell_type": "code",
   "execution_count": 14,
   "id": "666d53e3-50d9-45cd-9748-780a3353c630",
   "metadata": {},
   "outputs": [
    {
     "name": "stdout",
     "output_type": "stream",
     "text": [
      "I want to become a Data Scientist\n"
     ]
    }
   ],
   "source": [
    "with open('test1.txt', 'r') as file:\n",
    "    data = file.read()\n",
    "    print(data)"
   ]
  },
  {
   "cell_type": "markdown",
   "id": "5bb1313e-4a1b-473c-89bd-a6e3806ddf43",
   "metadata": {},
   "source": [
    "## Q6"
   ]
  },
  {
   "cell_type": "markdown",
   "id": "95051af8-409a-4eab-b797-2b8a933462f7",
   "metadata": {},
   "source": [
    "The write() function is used to write a string or a sequence of bytes into a file. If the file does not exist, it will be created. If it already exists, the function will overwrite the existing content with the new content."
   ]
  },
  {
   "cell_type": "code",
   "execution_count": 15,
   "id": "013e9964-6b68-4e4e-b542-12b1daca1075",
   "metadata": {},
   "outputs": [],
   "source": [
    "with open(\"test3.txt\", \"w\") as f:\n",
    "    f.write(\"Hello, world!\\n\")\n",
    "    f.write(\"How are you?\\n\")"
   ]
  },
  {
   "cell_type": "markdown",
   "id": "f6586b17-533d-42d0-b53c-710f73b458de",
   "metadata": {},
   "source": [
    "The writelines() function is used to write a sequence of strings to a file. If the file does not exist, it will be created. If it already exists, the function will overwrite the existing content with the new content."
   ]
  },
  {
   "cell_type": "code",
   "execution_count": 16,
   "id": "7cd0100d-10ad-405f-9906-15c25b637b5c",
   "metadata": {},
   "outputs": [],
   "source": [
    "with open(\"test4.txt\", \"w\") as f:\n",
    "    lines = [\"Hello, world!\\n\", \"How are you?\\n\"]\n",
    "    f.writelines(lines)"
   ]
  }
 ],
 "metadata": {
  "kernelspec": {
   "display_name": "Python 3 (ipykernel)",
   "language": "python",
   "name": "python3"
  },
  "language_info": {
   "codemirror_mode": {
    "name": "ipython",
    "version": 3
   },
   "file_extension": ".py",
   "mimetype": "text/x-python",
   "name": "python",
   "nbconvert_exporter": "python",
   "pygments_lexer": "ipython3",
   "version": "3.10.8"
  }
 },
 "nbformat": 4,
 "nbformat_minor": 5
}
