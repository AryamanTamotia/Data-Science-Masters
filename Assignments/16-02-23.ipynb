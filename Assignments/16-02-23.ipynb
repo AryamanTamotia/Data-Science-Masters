{
 "cells": [
  {
   "cell_type": "markdown",
   "id": "9d32e8f4-184b-4424-b098-11ae376858db",
   "metadata": {},
   "source": [
    "# 14 February 2023"
   ]
  },
  {
   "cell_type": "markdown",
   "id": "e7dc4309-aabc-4b5b-b87f-9f93fdfe50c3",
   "metadata": {
    "tags": []
   },
   "source": [
    "## Q1"
   ]
  },
  {
   "cell_type": "markdown",
   "id": "5d5378ab-b412-49f2-bbff-fd2329430445",
   "metadata": {},
   "source": [
    "A database is a collection of data that is organized in a systematic and structured manner, allowing for easy storage, retrieval, and modification of data.\n",
    "\n",
    "The main differences between SQL and NoSQL databases are:\n",
    "\n",
    "1. Data Model: SQL databases use a table-based model, while NoSQL databases use a document-based or key-value model.\n",
    "\n",
    "2. Query Language: SQL databases use the SQL language to query data, while NoSQL databases use different query languages.\n",
    "\n",
    "3. Scalability: SQL databases are vertically scalable, meaning that they can handle increased workload by increasing the hardware capacity. NoSQL databases are horizontally scalable, meaning that they can handle increased workload by adding more servers to the database cluster.\n",
    "\n",
    "4. Consistency: SQL databases offer strong consistency, meaning that all clients see the same view of the data at the same time. NoSQL databases offer eventual consistency, meaning that all clients eventually see the same view of the data, but not necessarily at the same time.\n",
    "\n",
    "5. Schema: SQL databases have a fixed schema, meaning that the structure of the data is defined beforehand. NoSQL databases have a dynamic schema, meaning that the structure of the data can be changed on-the-fly."
   ]
  },
  {
   "cell_type": "markdown",
   "id": "448cb9e8-c2e3-46ce-89c9-1d2228040269",
   "metadata": {
    "tags": []
   },
   "source": [
    "## Q2"
   ]
  },
  {
   "cell_type": "markdown",
   "id": "af48de79-ce8c-4e3f-8b79-95ae76338ec2",
   "metadata": {
    "tags": []
   },
   "source": [
    "DDL stands for Data Definition Language, which is used to define and manipulate the structure of a database schema. DDL statements are used to create, alter, and delete database objects such as tables, views, indexes, etc.\n",
    "\n",
    "1. CREATE: This statement is used to create a new database object such as a table, view, or index.\n",
    "\n",
    "`CREATE TABLE employees (\n",
    "   id INT PRIMARY KEY,\n",
    "   name VARCHAR(50),\n",
    "   age INT\n",
    ");`\n",
    "\n",
    "2. DROP: This statement is used to delete an existing database object such as a table or view.\n",
    "\n",
    "`DROP TABLE employees;`\n",
    "\n",
    "3. ALTER: This statement is used to modify the structure of an existing database object such as a table or view.\n",
    "\n",
    "`ALTER TABLE employees ADD COLUMN salary INT;`\n",
    "\n",
    "4. TRUNCATE: This statement is used to delete all the rows from a table. Unlike DROP, the table structure remains intact.\n",
    "\n",
    "`TRUNCATE TABLE employees;`"
   ]
  },
  {
   "cell_type": "markdown",
   "id": "267b93c3-325e-422d-acbe-a55ed3f9a61e",
   "metadata": {},
   "source": [
    "## Q3"
   ]
  },
  {
   "cell_type": "markdown",
   "id": "9e27c4ad-a9f6-4c3a-b687-b9cd9c1707eb",
   "metadata": {},
   "source": [
    "DML stands for Data Manipulation Language, which is used to manipulate data stored in a database.\n",
    "\n",
    "1. INSERT: The INSERT statement is used to insert new rows into a table. The basic syntax of the INSERT statement is:\n",
    "\n",
    "`INSERT INTO table_name (column1, column2, column3, ...)\n",
    "VALUES (value1, value2, value3, ...);`\n",
    "\n",
    "2. UPDATE: The UPDATE statement is used to modify existing rows in a table. The basic syntax of the UPDATE statement is:\n",
    "\n",
    "`UPDATE table_name\n",
    "SET column1 = value1, column2 = value2, ...\n",
    "WHERE condition;`\n",
    "\n",
    "3. DELETE: The DELETE statement is used to delete rows from a table. The basic syntax of the DELETE statement is:\n",
    "\n",
    "`DELETE FROM table_name\n",
    "WHERE condition;`"
   ]
  },
  {
   "cell_type": "markdown",
   "id": "f02ac4a8-872c-447e-81e4-23c2c95f06f5",
   "metadata": {},
   "source": [
    "## Q4"
   ]
  },
  {
   "cell_type": "markdown",
   "id": "32e059bb-5c88-4c4a-927e-c18ba3b6808b",
   "metadata": {},
   "source": [
    "DQL stands for Data Query Language, and it is used to retrieve data from a database. The most common DQL statement is SELECT, which retrieves data from one or more database tables.\n",
    "\n",
    "`SELECT name, age FROM employees WHERE salary > 50000;`\n",
    "\n",
    "This will retrieve the \"name\" and \"age\" columns from the \"employees\" table where the \"salary\" column is greater than $50,000."
   ]
  },
  {
   "cell_type": "markdown",
   "id": "902831b4-7321-4a79-9d22-70883dae7756",
   "metadata": {},
   "source": [
    "## Q5"
   ]
  },
  {
   "cell_type": "markdown",
   "id": "9ffc4fda-a8e8-4327-b687-b86ab00abc8d",
   "metadata": {},
   "source": [
    "In a relational database, a primary key is a field or combination of fields that uniquely identifies each record in a table. A primary key is a constraint that is used to enforce data integrity, ensuring that each record in a table is unique and can be easily identified.\n",
    "\n",
    "A foreign key, on the other hand, is a field in one table that refers to the primary key in another table. It is used to establish a relationship between two tables, allowing data to be linked and queried across multiple tables."
   ]
  },
  {
   "cell_type": "markdown",
   "id": "b7e80538-6022-4948-b490-91635de2c28a",
   "metadata": {},
   "source": [
    "## Q6"
   ]
  },
  {
   "cell_type": "code",
   "execution_count": null,
   "id": "fe92a65f-e015-44dc-9e4a-b115f321dc18",
   "metadata": {},
   "outputs": [],
   "source": [
    "import mysql.connector\n",
    "\n",
    "mydb = mysql.connector.connect(\n",
    "  host=\"localhost\",\n",
    "  user=\"username\",\n",
    "  password=\"password\",\n",
    "  database=\"mydatabase\"\n",
    ")\n",
    "\n",
    "mycursor = mydb.cursor()\n",
    "\n",
    "mycursor.execute(\"SELECT * FROM customers\")\n",
    "\n",
    "result = mycursor.fetchall()\n",
    "\n",
    "for x in result:\n",
    "  print(x)"
   ]
  },
  {
   "cell_type": "markdown",
   "id": "e85e1f51-6358-47c9-9e68-36c6191e9732",
   "metadata": {},
   "source": [
    "The execute() method of the cursor object is used to execute SQL queries on the database. It takes an SQL query as a parameter and returns a result set (if the query returns data) or None (if the query does not return data).\n",
    "\n",
    "The cursor() method of the database object is used to create a cursor object. The cursor object is used to execute SQL queries and fetch the results."
   ]
  },
  {
   "cell_type": "markdown",
   "id": "bdc9b9f3-b332-4081-8783-441eb7c8eb37",
   "metadata": {},
   "source": [
    "# Q7"
   ]
  },
  {
   "cell_type": "markdown",
   "id": "07bfd294-1ce3-41ba-8a0c-7993212dd5bb",
   "metadata": {},
   "source": [
    "The order of execution of SQL clauses in an SQL query is as follows:\n",
    "\n",
    "1. FROM\n",
    "2. WHERE\n",
    "3. GROUP BY\n",
    "4. HAVING\n",
    "5. SELECT\n",
    "6. ORDER BY"
   ]
  }
 ],
 "metadata": {
  "kernelspec": {
   "display_name": "Python 3 (ipykernel)",
   "language": "python",
   "name": "python3"
  },
  "language_info": {
   "codemirror_mode": {
    "name": "ipython",
    "version": 3
   },
   "file_extension": ".py",
   "mimetype": "text/x-python",
   "name": "python",
   "nbconvert_exporter": "python",
   "pygments_lexer": "ipython3",
   "version": "3.10.8"
  }
 },
 "nbformat": 4,
 "nbformat_minor": 5
}
