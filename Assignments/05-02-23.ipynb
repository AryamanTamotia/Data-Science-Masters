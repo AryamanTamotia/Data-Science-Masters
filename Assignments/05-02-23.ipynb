{
 "cells": [
  {
   "cell_type": "markdown",
   "id": "304f23d9-45c7-46fe-aa19-2e8f46bf6688",
   "metadata": {},
   "source": [
    "# 05 February 2023"
   ]
  },
  {
   "cell_type": "markdown",
   "id": "96373655-23c7-42b3-81b4-5636d6882ecd",
   "metadata": {
    "tags": []
   },
   "source": [
    "## Q1"
   ]
  },
  {
   "cell_type": "markdown",
   "id": "689a72c7-adee-4ca4-8b21-7df18796d10e",
   "metadata": {},
   "source": [
    "In Object-Oriented Programming (OOP), a class is a blueprint for creating objects that have common attributes and behaviors. An object is an instance of a class, which can store data and perform operations. In the following example 'Dog' is a class and 'dog1' and 'dog2' are objects of the class."
   ]
  },
  {
   "cell_type": "code",
   "execution_count": 1,
   "id": "168ba599-2a4a-463f-b182-1b9a1e51cbf5",
   "metadata": {},
   "outputs": [],
   "source": [
    "class Dog:\n",
    "    def __init__(self, name, breed, age, color):\n",
    "        self.name = name\n",
    "        self.breed = breed\n",
    "        self.age = age\n",
    "        self.color = color\n",
    "    \n",
    "    def bark(self):\n",
    "        print(\"Woof!\")\n",
    "    \n",
    "    def run(self):\n",
    "        print(self.name + \" is running.\")\n",
    "    \n",
    "    def wag_tail(self):\n",
    "        print(self.name + \" is wagging its tail.\")\n"
   ]
  },
  {
   "cell_type": "code",
   "execution_count": 2,
   "id": "9d90deb3-cd17-436a-998c-6a666612d9a3",
   "metadata": {},
   "outputs": [],
   "source": [
    "dog1 = Dog(\"Buddy\", \"Labrador\", 3, \"Golden\")\n",
    "dog2 = Dog(\"Max\", \"German Shepherd\", 5, \"Black and Tan\")"
   ]
  },
  {
   "cell_type": "code",
   "execution_count": 5,
   "id": "0464b5c9-d5d8-4560-be88-e6477acb3521",
   "metadata": {},
   "outputs": [
    {
     "name": "stdout",
     "output_type": "stream",
     "text": [
      "Woof!\n",
      "Max is running.\n",
      "Buddy is wagging its tail.\n"
     ]
    }
   ],
   "source": [
    "dog1.bark()\n",
    "dog2.run()\n",
    "dog1.wag_tail()"
   ]
  },
  {
   "cell_type": "markdown",
   "id": "7797d0f1-0c0c-4455-8e43-99d7c57c7e9d",
   "metadata": {
    "tags": []
   },
   "source": [
    "## Q2"
   ]
  },
  {
   "cell_type": "markdown",
   "id": "250a07bb-e748-4acb-b3d4-a2848f69ac90",
   "metadata": {},
   "source": [
    "The four pillars of OOPS are:\n",
    "\n",
    "Encapsulation: It is the process of encapsulating or wrapping data and methods (functions) that operate on that data within a single unit, called a class.\n",
    "\n",
    "Inheritance: It is a mechanism that allows creating a new class from an existing class.\n",
    "\n",
    "Polymorphism: It is the ability of an object to take on many forms. In OOPS, polymorphism is implemented through method overriding and method overloading.\n",
    "\n",
    "Abstraction: It is the process of hiding the complexity of the system and only showing the necessary details to the user. In OOPS, abstraction is implemented through abstract classes and interfaces."
   ]
  },
  {
   "cell_type": "markdown",
   "id": "ae14e141-2d71-4888-a148-4bb1d2f74525",
   "metadata": {},
   "source": [
    "## Q3"
   ]
  },
  {
   "cell_type": "markdown",
   "id": "87385ad6-28b6-49cb-8d64-83b6618ced89",
   "metadata": {},
   "source": [
    "The '__init__'() function is a constructor method in Python that is automatically called when an object is created. It is used to initialize the attributes or properties of an object with default or user-defined values. The self parameter is used to refer to the instance of the class."
   ]
  },
  {
   "cell_type": "code",
   "execution_count": 8,
   "id": "11572b5e-720f-4097-a27e-70140982cc0c",
   "metadata": {},
   "outputs": [],
   "source": [
    "class Car:\n",
    "    def __init__(self, company, model, year):\n",
    "        self.company = company\n",
    "        self.model = model\n",
    "        self.year = year\n",
    "    def get_details(self):\n",
    "        return self.company,self.model,self.year"
   ]
  },
  {
   "cell_type": "code",
   "execution_count": 11,
   "id": "1f35d058-4122-444c-8be4-5b6457dbea4f",
   "metadata": {},
   "outputs": [
    {
     "data": {
      "text/plain": [
       "('Hyundai', 'Alcazar', 2021)"
      ]
     },
     "execution_count": 11,
     "metadata": {},
     "output_type": "execute_result"
    }
   ],
   "source": [
    "car1 = Car('Hyundai', 'Alcazar', 2021)\n",
    "car1.get_details()"
   ]
  },
  {
   "cell_type": "markdown",
   "id": "c8cc5c98-956c-4602-b377-1c51a2a89df3",
   "metadata": {},
   "source": [
    "## Q4"
   ]
  },
  {
   "cell_type": "markdown",
   "id": "68231d4a-a4cb-4858-8e78-c4f92bd5fd51",
   "metadata": {},
   "source": [
    "In OOPS, self is a reference variable that points to the current object instance. It is used to access the attributes and methods of the current  object. When a method is called on an object, the object itself is automatically passed as the first argument to the method. This first argument is referred to as self by convention. "
   ]
  },
  {
   "cell_type": "code",
   "execution_count": 12,
   "id": "527b1ad1-3575-4742-84dd-59b539affb74",
   "metadata": {},
   "outputs": [],
   "source": [
    "class Person:\n",
    "    def __init__(self, name, age):\n",
    "        self.name = name\n",
    "        self.age = age\n",
    "\n",
    "    def display(self):\n",
    "        print(\"Name:\", self.name)\n",
    "        print(\"Age:\", self.age)"
   ]
  },
  {
   "cell_type": "code",
   "execution_count": 13,
   "id": "8ea30d3f-f506-411b-b653-5c6b7238412f",
   "metadata": {},
   "outputs": [
    {
     "name": "stdout",
     "output_type": "stream",
     "text": [
      "Name: Rohan\n",
      "Age: 21\n"
     ]
    }
   ],
   "source": [
    "person1 = Person('Rohan',21)\n",
    "person1.display()"
   ]
  },
  {
   "cell_type": "markdown",
   "id": "aa3f1f24-0784-4f02-bd63-961e48f3efa7",
   "metadata": {},
   "source": [
    "## Q5"
   ]
  },
  {
   "cell_type": "markdown",
   "id": "17f5cb95-183e-4215-9f20-ca704ce2e2b7",
   "metadata": {},
   "source": [
    "Inheritance is a mechanism in object-oriented programming that allows a new class to be based on an existing class, inheriting its properties and methods. The existing class is called the parent class or base class, while the new class is called the child class or derived class.\n",
    "\n",
    "There are four types of inheritance:"
   ]
  },
  {
   "cell_type": "markdown",
   "id": "d79b7be3-d54e-4f7d-9175-e73510d6a466",
   "metadata": {},
   "source": [
    "1. Single inheritance: A child class inherits properties and methods from only one parent class."
   ]
  },
  {
   "cell_type": "code",
   "execution_count": 14,
   "id": "f620b6a2-8888-41e5-9d7c-fe0d69f20fad",
   "metadata": {},
   "outputs": [
    {
     "name": "stdout",
     "output_type": "stream",
     "text": [
      "Buddy makes woof sound.\n",
      "Buddy barks.\n"
     ]
    }
   ],
   "source": [
    "class Animal:\n",
    "    def __init__(self, name, species):\n",
    "        self.name = name\n",
    "        self.species = species\n",
    "    \n",
    "    def make_sound(self, sound):\n",
    "        print(f\"{self.name} makes {sound} sound.\")\n",
    "        \n",
    "class Dog(Animal):\n",
    "    def __init__(self, name, breed):\n",
    "        super().__init__(name, species=\"Dog\")\n",
    "        self.breed = breed\n",
    "    \n",
    "    def bark(self):\n",
    "        print(f\"{self.name} barks.\")\n",
    "        \n",
    "dog1 = Dog(\"Buddy\", \"Golden Retriever\")\n",
    "dog1.make_sound(\"woof\")\n",
    "dog1.bark()"
   ]
  },
  {
   "cell_type": "markdown",
   "id": "c4346750-8c7a-4bb8-8349-24f2c06f1988",
   "metadata": {},
   "source": [
    "2. Multiple inheritance: A child class inherits properties and methods from multiple parent classes."
   ]
  },
  {
   "cell_type": "code",
   "execution_count": 15,
   "id": "a9d1b989-0ca1-4c3c-9fbd-4f25467badde",
   "metadata": {},
   "outputs": [
    {
     "name": "stdout",
     "output_type": "stream",
     "text": [
      "Method 1 of Parent 1\n",
      "Method 2 of Parent 2\n",
      "Method 3 of Child\n"
     ]
    }
   ],
   "source": [
    "class Parent1:\n",
    "    def method1(self):\n",
    "        print(\"Method 1 of Parent 1\")\n",
    "        \n",
    "class Parent2:\n",
    "    def method2(self):\n",
    "        print(\"Method 2 of Parent 2\")\n",
    "        \n",
    "class Child(Parent1, Parent2):\n",
    "    def method3(self):\n",
    "        print(\"Method 3 of Child\")\n",
    "        \n",
    "obj = Child()\n",
    "obj.method1()\n",
    "obj.method2()\n",
    "obj.method3()"
   ]
  },
  {
   "cell_type": "markdown",
   "id": "13dc2b9e-bbc6-4f28-913b-2d9f3ddb2416",
   "metadata": {},
   "source": [
    "3. Hierarchical inheritance: Two or more child classes inherit properties and methods from the same parent class."
   ]
  },
  {
   "cell_type": "code",
   "execution_count": 17,
   "id": "4ae664b8-71b4-4d23-93e7-76a11e4fabc8",
   "metadata": {},
   "outputs": [
    {
     "name": "stdout",
     "output_type": "stream",
     "text": [
      "Buddy barks.\n",
      "Whiskers meows.\n"
     ]
    }
   ],
   "source": [
    "class Animal:\n",
    "    def __init__(self, name):\n",
    "        self.name = name\n",
    "    \n",
    "    def make_sound(self):\n",
    "        pass\n",
    "        \n",
    "class Dog(Animal):\n",
    "    def make_sound(self):\n",
    "        print(f\"{self.name} barks.\")\n",
    "        \n",
    "class Cat(Animal):\n",
    "    def make_sound(self):\n",
    "        print(f\"{self.name} meows.\")\n",
    "        \n",
    "dog1 = Dog(\"Buddy\")\n",
    "dog1.make_sound()\n",
    "\n",
    "cat1 = Cat(\"Whiskers\")\n",
    "cat1.make_sound()"
   ]
  },
  {
   "cell_type": "markdown",
   "id": "c3b9078c-fb17-4ce3-8034-626f6c9b857c",
   "metadata": {},
   "source": [
    "4. Multi-level inheritance: A child class inherits properties and methods from a parent class, which in turn inherits from another parent class."
   ]
  },
  {
   "cell_type": "code",
   "execution_count": 19,
   "id": "b11c8bc5-3a59-42f0-b21c-d13e0309df60",
   "metadata": {},
   "outputs": [
    {
     "name": "stdout",
     "output_type": "stream",
     "text": [
      "Buddy barks.\n",
      "Buddy is eating.\n"
     ]
    }
   ],
   "source": [
    "class Animal:\n",
    "    def __init__(self, name):\n",
    "        self.name = name\n",
    "    \n",
    "    def make_sound(self):\n",
    "        pass\n",
    "        \n",
    "class Mammal(Animal):\n",
    "    def eat(self):\n",
    "        print(f\"{self.name} is eating.\")\n",
    "        \n",
    "class Dog(Mammal):\n",
    "    def make_sound(self):\n",
    "        print(f\"{self.name} barks.\")\n",
    "        \n",
    "dog1 = Dog(\"Buddy\")\n",
    "dog1.make_sound()\n",
    "dog1.eat()"
   ]
  }
 ],
 "metadata": {
  "kernelspec": {
   "display_name": "Python 3 (ipykernel)",
   "language": "python",
   "name": "python3"
  },
  "language_info": {
   "codemirror_mode": {
    "name": "ipython",
    "version": 3
   },
   "file_extension": ".py",
   "mimetype": "text/x-python",
   "name": "python",
   "nbconvert_exporter": "python",
   "pygments_lexer": "ipython3",
   "version": "3.10.8"
  }
 },
 "nbformat": 4,
 "nbformat_minor": 5
}
